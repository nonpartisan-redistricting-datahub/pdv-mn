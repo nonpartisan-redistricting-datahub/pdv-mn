{
 "cells": [
  {
   "cell_type": "code",
   "execution_count": 14,
   "metadata": {},
   "outputs": [],
   "source": [
    "import pandas as pd\n",
    "import sys\n",
    "import numpy as np\n",
    "import geopandas as gp\n",
    "import matplotlib.pyplot as plt"
   ]
  },
  {
   "cell_type": "markdown",
   "metadata": {},
   "source": [
    "# Precinct Shapefile"
   ]
  },
  {
   "cell_type": "markdown",
   "metadata": {},
   "source": [
    "## VEST's Documentation File"
   ]
  },
  {
   "cell_type": "markdown",
   "metadata": {},
   "source": [
    "Election results and precinct shapefile from the Minnesota Secretary of State (https://gisdata.mn.gov/dataset/bdry-electionresults-2012-2020)\n",
    "\n",
    "- G16PRERTru - Donald J. Trump (Republican Party)\n",
    "- G16PREDCli - Hillary Clinton (Democratic-Farmer-Labor Party)\n",
    "- G16PRECCas - Darrell L. Castle (Constitution Party)\n",
    "- G16PREMVac - Dan R. Vacek (Legal Marijuana Now Party)\n",
    "- G16PRESKen - Alyson Kennedy (Socialist Workers Party)\n",
    "- G16PREGSte - Jill Stein (Green Party)\n",
    "- G16PREIDeL - Roque De La Fuente (American Delta Party)\n",
    "- G16PREIMcM - Evan McMullin (Independence Party)\n",
    "- G16PRELJoh - Gary Johnson (Libertarian Party)\n",
    "- G16PREOth - Write-in Votes"
   ]
  },
  {
   "cell_type": "markdown",
   "metadata": {},
   "source": [
    "## Load VEST's Final File"
   ]
  },
  {
   "cell_type": "code",
   "execution_count": 15,
   "metadata": {},
   "outputs": [],
   "source": [
    "vest_shp = gp.read_file(\"./raw-from-source/VEST/mn_2016/mn_2016.shp\")"
   ]
  },
  {
   "cell_type": "code",
   "execution_count": 16,
   "metadata": {},
   "outputs": [
    {
     "data": {
      "text/plain": [
       "(4120, 19)"
      ]
     },
     "execution_count": 16,
     "metadata": {},
     "output_type": "execute_result"
    }
   ],
   "source": [
    "vest_shp.shape"
   ]
  },
  {
   "cell_type": "code",
   "execution_count": 17,
   "metadata": {},
   "outputs": [
    {
     "data": {
      "text/html": [
       "<div>\n",
       "<style scoped>\n",
       "    .dataframe tbody tr th:only-of-type {\n",
       "        vertical-align: middle;\n",
       "    }\n",
       "\n",
       "    .dataframe tbody tr th {\n",
       "        vertical-align: top;\n",
       "    }\n",
       "\n",
       "    .dataframe thead th {\n",
       "        text-align: right;\n",
       "    }\n",
       "</style>\n",
       "<table border=\"1\" class=\"dataframe\">\n",
       "  <thead>\n",
       "    <tr style=\"text-align: right;\">\n",
       "      <th></th>\n",
       "      <th>VTDID</th>\n",
       "      <th>PCTNAME</th>\n",
       "      <th>PCTCODE</th>\n",
       "      <th>SHORTLABEL</th>\n",
       "      <th>MCDNAME</th>\n",
       "      <th>MCDCODE</th>\n",
       "      <th>MCDFIPS</th>\n",
       "      <th>MCDGNIS</th>\n",
       "      <th>G16PRERTru</th>\n",
       "      <th>G16PREDCli</th>\n",
       "      <th>G16PRECCas</th>\n",
       "      <th>G16PREMVac</th>\n",
       "      <th>G16PRESKen</th>\n",
       "      <th>G16PREGSte</th>\n",
       "      <th>G16PREIDeL</th>\n",
       "      <th>G16PREIMcM</th>\n",
       "      <th>G16PRELJoh</th>\n",
       "      <th>G16PREOth</th>\n",
       "      <th>geometry</th>\n",
       "    </tr>\n",
       "  </thead>\n",
       "  <tbody>\n",
       "    <tr>\n",
       "      <th>0</th>\n",
       "      <td>270010005</td>\n",
       "      <td>Aitkin</td>\n",
       "      <td>0005</td>\n",
       "      <td>None</td>\n",
       "      <td>Aitkin</td>\n",
       "      <td>004</td>\n",
       "      <td>00460</td>\n",
       "      <td>02393894</td>\n",
       "      <td>552</td>\n",
       "      <td>358</td>\n",
       "      <td>3</td>\n",
       "      <td>7</td>\n",
       "      <td>1</td>\n",
       "      <td>2</td>\n",
       "      <td>0</td>\n",
       "      <td>21</td>\n",
       "      <td>36</td>\n",
       "      <td>6</td>\n",
       "      <td>POLYGON ((447378.031 5154733.389, 448085.138 5...</td>\n",
       "    </tr>\n",
       "  </tbody>\n",
       "</table>\n",
       "</div>"
      ],
      "text/plain": [
       "       VTDID PCTNAME PCTCODE SHORTLABEL MCDNAME MCDCODE MCDFIPS   MCDGNIS  \\\n",
       "0  270010005  Aitkin    0005       None  Aitkin     004   00460  02393894   \n",
       "\n",
       "   G16PRERTru  G16PREDCli  G16PRECCas  G16PREMVac  G16PRESKen  G16PREGSte  \\\n",
       "0         552         358           3           7           1           2   \n",
       "\n",
       "   G16PREIDeL  G16PREIMcM  G16PRELJoh  G16PREOth  \\\n",
       "0           0          21          36          6   \n",
       "\n",
       "                                            geometry  \n",
       "0  POLYGON ((447378.031 5154733.389, 448085.138 5...  "
      ]
     },
     "execution_count": 17,
     "metadata": {},
     "output_type": "execute_result"
    }
   ],
   "source": [
    "vest_shp.head(1)"
   ]
  },
  {
   "cell_type": "code",
   "execution_count": 18,
   "metadata": {},
   "outputs": [
    {
     "data": {
      "text/plain": [
       "<AxesSubplot:>"
      ]
     },
     "execution_count": 18,
     "metadata": {},
     "output_type": "execute_result"
    },
    {
     "data": {
      "image/png": "[encoded data removed]",
      "text/plain": [
       "<Figure size 432x288 with 1 Axes>"
      ]
     },
     "metadata": {
      "needs_background": "light"
     },
     "output_type": "display_data"
    }
   ],
   "source": [
    "vest_shp.boundary.plot()"
   ]
  },
  {
   "cell_type": "code",
   "execution_count": 19,
   "metadata": {},
   "outputs": [],
   "source": [
    "#Add in a COUNTYFIPS column using the VTDID\n",
    "vest_shp['COUNTYFIPS']=vest_shp[\"VTDID\"].str[2:5]"
   ]
  },
  {
   "cell_type": "markdown",
   "metadata": {},
   "source": [
    "# Load the SOS File"
   ]
  },
  {
   "cell_type": "code",
   "execution_count": 21,
   "metadata": {},
   "outputs": [],
   "source": [
    "gdf = gp.read_file('./raw-from-source/SOS/shp_bdry_electionresults_2012_2020/general_election_results_by_precinct_2016.shp')"
   ]
  },
  {
   "cell_type": "code",
   "execution_count": 22,
   "metadata": {},
   "outputs": [
    {
     "data": {
      "text/html": [
       "<div>\n",
       "<style scoped>\n",
       "    .dataframe tbody tr th:only-of-type {\n",
       "        vertical-align: middle;\n",
       "    }\n",
       "\n",
       "    .dataframe tbody tr th {\n",
       "        vertical-align: top;\n",
       "    }\n",
       "\n",
       "    .dataframe thead th {\n",
       "        text-align: right;\n",
       "    }\n",
       "</style>\n",
       "<table border=\"1\" class=\"dataframe\">\n",
       "  <thead>\n",
       "    <tr style=\"text-align: right;\">\n",
       "      <th></th>\n",
       "      <th>VTDID</th>\n",
       "      <th>PCTNAME</th>\n",
       "      <th>PCTCODE</th>\n",
       "      <th>SHORTLABEL</th>\n",
       "      <th>MCDNAME</th>\n",
       "      <th>MCDCODE</th>\n",
       "      <th>MCDFIPS</th>\n",
       "      <th>MCDGNIS</th>\n",
       "      <th>CTU_TYPE</th>\n",
       "      <th>COUNTYNAME</th>\n",
       "      <th>...</th>\n",
       "      <th>MNLEGDFL</th>\n",
       "      <th>MNLEGWI</th>\n",
       "      <th>MNLEGTOTAL</th>\n",
       "      <th>MNCA1YES</th>\n",
       "      <th>MNCA1NO</th>\n",
       "      <th>MNCA1EST</th>\n",
       "      <th>MNCA1TOTAL</th>\n",
       "      <th>Shape_Leng</th>\n",
       "      <th>Shape_Area</th>\n",
       "      <th>geometry</th>\n",
       "    </tr>\n",
       "  </thead>\n",
       "  <tbody>\n",
       "    <tr>\n",
       "      <th>0</th>\n",
       "      <td>270010005</td>\n",
       "      <td>Aitkin</td>\n",
       "      <td>0005</td>\n",
       "      <td>None</td>\n",
       "      <td>Aitkin</td>\n",
       "      <td>004</td>\n",
       "      <td>00460</td>\n",
       "      <td>02393894</td>\n",
       "      <td>city</td>\n",
       "      <td>Aitkin</td>\n",
       "      <td>...</td>\n",
       "      <td>411</td>\n",
       "      <td>0</td>\n",
       "      <td>972</td>\n",
       "      <td>731</td>\n",
       "      <td>224</td>\n",
       "      <td>45</td>\n",
       "      <td>1000</td>\n",
       "      <td>31638.833260</td>\n",
       "      <td>6.629747e+06</td>\n",
       "      <td>POLYGON ((447378.031 5154733.389, 448085.138 5...</td>\n",
       "    </tr>\n",
       "    <tr>\n",
       "      <th>1</th>\n",
       "      <td>270010010</td>\n",
       "      <td>Aitkin Twp</td>\n",
       "      <td>0010</td>\n",
       "      <td>None</td>\n",
       "      <td>Aitkin Twp</td>\n",
       "      <td>005</td>\n",
       "      <td>00478</td>\n",
       "      <td>00663389</td>\n",
       "      <td>township</td>\n",
       "      <td>Aitkin</td>\n",
       "      <td>...</td>\n",
       "      <td>173</td>\n",
       "      <td>0</td>\n",
       "      <td>543</td>\n",
       "      <td>438</td>\n",
       "      <td>95</td>\n",
       "      <td>17</td>\n",
       "      <td>550</td>\n",
       "      <td>67719.452182</td>\n",
       "      <td>8.780913e+07</td>\n",
       "      <td>MULTIPOLYGON (((445904.069 5151658.489, 445903...</td>\n",
       "    </tr>\n",
       "    <tr>\n",
       "      <th>2</th>\n",
       "      <td>270010015</td>\n",
       "      <td>Ball Bluff Twp</td>\n",
       "      <td>0015</td>\n",
       "      <td>None</td>\n",
       "      <td>Ball Bluff Twp</td>\n",
       "      <td>015</td>\n",
       "      <td>03358</td>\n",
       "      <td>00663498</td>\n",
       "      <td>township</td>\n",
       "      <td>Aitkin</td>\n",
       "      <td>...</td>\n",
       "      <td>79</td>\n",
       "      <td>0</td>\n",
       "      <td>158</td>\n",
       "      <td>131</td>\n",
       "      <td>32</td>\n",
       "      <td>1</td>\n",
       "      <td>164</td>\n",
       "      <td>38301.248800</td>\n",
       "      <td>9.148057e+07</td>\n",
       "      <td>POLYGON ((485475.521 5207980.031, 485475.766 5...</td>\n",
       "    </tr>\n",
       "    <tr>\n",
       "      <th>3</th>\n",
       "      <td>270010020</td>\n",
       "      <td>Balsam Twp</td>\n",
       "      <td>0020</td>\n",
       "      <td>None</td>\n",
       "      <td>Balsam Twp</td>\n",
       "      <td>020</td>\n",
       "      <td>03412</td>\n",
       "      <td>00663499</td>\n",
       "      <td>township</td>\n",
       "      <td>Aitkin</td>\n",
       "      <td>...</td>\n",
       "      <td>11</td>\n",
       "      <td>0</td>\n",
       "      <td>19</td>\n",
       "      <td>15</td>\n",
       "      <td>2</td>\n",
       "      <td>2</td>\n",
       "      <td>19</td>\n",
       "      <td>38988.094778</td>\n",
       "      <td>9.517941e+07</td>\n",
       "      <td>POLYGON ((495441.473 5188825.678, 495423.020 5...</td>\n",
       "    </tr>\n",
       "    <tr>\n",
       "      <th>4</th>\n",
       "      <td>270010025</td>\n",
       "      <td>Beaver Twp</td>\n",
       "      <td>0025</td>\n",
       "      <td>None</td>\n",
       "      <td>Beaver Twp</td>\n",
       "      <td>025</td>\n",
       "      <td>04384</td>\n",
       "      <td>00663536</td>\n",
       "      <td>township</td>\n",
       "      <td>Aitkin</td>\n",
       "      <td>...</td>\n",
       "      <td>23</td>\n",
       "      <td>0</td>\n",
       "      <td>34</td>\n",
       "      <td>31</td>\n",
       "      <td>6</td>\n",
       "      <td>0</td>\n",
       "      <td>37</td>\n",
       "      <td>38288.614190</td>\n",
       "      <td>9.135949e+07</td>\n",
       "      <td>POLYGON ((495765.091 5140614.891, 494153.670 5...</td>\n",
       "    </tr>\n",
       "  </tbody>\n",
       "</table>\n",
       "<p>5 rows × 64 columns</p>\n",
       "</div>"
      ],
      "text/plain": [
       "       VTDID         PCTNAME PCTCODE SHORTLABEL         MCDNAME MCDCODE  \\\n",
       "0  270010005          Aitkin    0005       None          Aitkin     004   \n",
       "1  270010010      Aitkin Twp    0010       None      Aitkin Twp     005   \n",
       "2  270010015  Ball Bluff Twp    0015       None  Ball Bluff Twp     015   \n",
       "3  270010020      Balsam Twp    0020       None      Balsam Twp     020   \n",
       "4  270010025      Beaver Twp    0025       None      Beaver Twp     025   \n",
       "\n",
       "  MCDFIPS   MCDGNIS  CTU_TYPE COUNTYNAME  ... MNLEGDFL MNLEGWI MNLEGTOTAL  \\\n",
       "0   00460  02393894      city     Aitkin  ...      411       0        972   \n",
       "1   00478  00663389  township     Aitkin  ...      173       0        543   \n",
       "2   03358  00663498  township     Aitkin  ...       79       0        158   \n",
       "3   03412  00663499  township     Aitkin  ...       11       0         19   \n",
       "4   04384  00663536  township     Aitkin  ...       23       0         34   \n",
       "\n",
       "  MNCA1YES MNCA1NO MNCA1EST MNCA1TOTAL    Shape_Leng    Shape_Area  \\\n",
       "0      731     224       45       1000  31638.833260  6.629747e+06   \n",
       "1      438      95       17        550  67719.452182  8.780913e+07   \n",
       "2      131      32        1        164  38301.248800  9.148057e+07   \n",
       "3       15       2        2         19  38988.094778  9.517941e+07   \n",
       "4       31       6        0         37  38288.614190  9.135949e+07   \n",
       "\n",
       "                                            geometry  \n",
       "0  POLYGON ((447378.031 5154733.389, 448085.138 5...  \n",
       "1  MULTIPOLYGON (((445904.069 5151658.489, 445903...  \n",
       "2  POLYGON ((485475.521 5207980.031, 485475.766 5...  \n",
       "3  POLYGON ((495441.473 5188825.678, 495423.020 5...  \n",
       "4  POLYGON ((495765.091 5140614.891, 494153.670 5...  \n",
       "\n",
       "[5 rows x 64 columns]"
      ]
     },
     "execution_count": 22,
     "metadata": {},
     "output_type": "execute_result"
    }
   ],
   "source": [
    "gdf.head()"
   ]
  },
  {
   "cell_type": "code",
   "execution_count": 23,
   "metadata": {},
   "outputs": [
    {
     "data": {
      "text/plain": [
       "Index(['VTDID', 'PCTNAME', 'PCTCODE', 'SHORTLABEL', 'MCDNAME', 'MCDCODE',\n",
       "       'MCDFIPS', 'MCDGNIS', 'CTU_TYPE', 'COUNTYNAME', 'COUNTYCODE',\n",
       "       'COUNTYFIPS', 'CONGDIST', 'MNSENDIST', 'MNLEGDIST', 'CTYCOMDIST',\n",
       "       'JUDDIST', 'SWCDIST', 'SWCDIST_N', 'WARD', 'HOSPDIST', 'HOSPDIST_N',\n",
       "       'PARKDIST', 'PARKDIST_N', 'TABSYSTEM', 'TABMODEL', 'MAILBALLOT',\n",
       "       'REG7AM', 'SIGNATURES', 'EDR', 'AB_MB', 'FEDONLYAB', 'PRESONLYAB',\n",
       "       'TOTVOTING', 'USPRSR', 'USPRSDFL', 'USPRSCP', 'USPRSLMN', 'USPRSSWP',\n",
       "       'USPRSGP', 'USPRSADP', 'USPRSIP', 'USPRSLIB', 'USPRSWI', 'USPRSTOTAL',\n",
       "       'USREPR', 'USREPDFL', 'USREPWI', 'USREPTOTAL', 'MNSENR', 'MNSENDFL',\n",
       "       'MNSENWI', 'MNSENTOTAL', 'MNLEGR', 'MNLEGDFL', 'MNLEGWI', 'MNLEGTOTAL',\n",
       "       'MNCA1YES', 'MNCA1NO', 'MNCA1EST', 'MNCA1TOTAL', 'Shape_Leng',\n",
       "       'Shape_Area', 'geometry'],\n",
       "      dtype='object')"
      ]
     },
     "execution_count": 23,
     "metadata": {},
     "output_type": "execute_result"
    }
   ],
   "source": [
    "gdf.columns"
   ]
  },
  {
   "cell_type": "markdown",
   "metadata": {},
   "source": [
    "The SOS file already has election results and the precinct shapefile joined together. "
   ]
  },
  {
   "cell_type": "code",
   "execution_count": 24,
   "metadata": {},
   "outputs": [],
   "source": [
    "gdf.columns = ['VTDID', 'PCTNAME', 'PCTCODE', 'SHORTLABEL', 'MCDNAME', 'MCDCODE',\n",
    "       'MCDFIPS', 'MCDGNIS', 'CTU_TYPE', 'COUNTYNAME', 'COUNTYCODE',\n",
    "       'COUNTYFIPS', 'CONGDIST', 'MNSENDIST', 'MNLEGDIST', 'CTYCOMDIST',\n",
    "       'JUDDIST', 'SWCDIST', 'SWCDIST_N', 'WARD', 'HOSPDIST', 'HOSPDIST_N',\n",
    "       'PARKDIST', 'PARKDIST_N', 'TABSYSTEM', 'TABMODEL', 'MAILBALLOT',\n",
    "       'REG7AM', 'SIGNATURES', 'EDR', 'AB_MB', 'FEDONLYAB', 'PRESONLYAB',\n",
    "       'TOTVOTING', 'G16PRERTru', 'G16PREDCli', 'G16PRECCas', 'G16PREMVac', 'G16PRESKen',\n",
    "       'G16PREGSte', 'G16PREIDeL', 'G16PREIMcM', 'G16PRELJoh', 'G16PREOth', 'USPRSTOTAL',\n",
    "       'USREPR', 'USREPDFL', 'USREPWI', 'USREPTOTAL', 'MNSENR', 'MNSENDFL',\n",
    "       'MNSENWI', 'MNSENTOTAL', 'MNLEGR', 'MNLEGDFL', 'MNLEGWI', 'MNLEGTOTAL',\n",
    "       'MNCA1YES', 'MNCA1NO', 'MNCA1EST', 'MNCA1TOTAL', 'Shape_Leng',\n",
    "       'Shape_Area', 'geometry']"
   ]
  },
  {
   "cell_type": "markdown",
   "metadata": {},
   "source": [
    "# Join Files"
   ]
  },
  {
   "cell_type": "code",
   "execution_count": 25,
   "metadata": {},
   "outputs": [
    {
     "name": "stdout",
     "output_type": "stream",
     "text": [
      "(4120, 20)\n",
      "(4120, 64)\n"
     ]
    }
   ],
   "source": [
    "print(vest_shp.shape)\n",
    "print(gdf.shape)"
   ]
  },
  {
   "cell_type": "code",
   "execution_count": 26,
   "metadata": {},
   "outputs": [
    {
     "data": {
      "text/html": [
       "<div>\n",
       "<style scoped>\n",
       "    .dataframe tbody tr th:only-of-type {\n",
       "        vertical-align: middle;\n",
       "    }\n",
       "\n",
       "    .dataframe tbody tr th {\n",
       "        vertical-align: top;\n",
       "    }\n",
       "\n",
       "    .dataframe thead th {\n",
       "        text-align: right;\n",
       "    }\n",
       "</style>\n",
       "<table border=\"1\" class=\"dataframe\">\n",
       "  <thead>\n",
       "    <tr style=\"text-align: right;\">\n",
       "      <th></th>\n",
       "      <th>VTDID</th>\n",
       "      <th>PCTNAME_x</th>\n",
       "      <th>PCTCODE_x</th>\n",
       "      <th>SHORTLABEL_x</th>\n",
       "      <th>MCDNAME_x</th>\n",
       "      <th>MCDCODE_x</th>\n",
       "      <th>MCDFIPS_x</th>\n",
       "      <th>MCDGNIS_x</th>\n",
       "      <th>G16PRERTru_x</th>\n",
       "      <th>G16PREDCli_x</th>\n",
       "      <th>...</th>\n",
       "      <th>MNLEGDFL</th>\n",
       "      <th>MNLEGWI</th>\n",
       "      <th>MNLEGTOTAL</th>\n",
       "      <th>MNCA1YES</th>\n",
       "      <th>MNCA1NO</th>\n",
       "      <th>MNCA1EST</th>\n",
       "      <th>MNCA1TOTAL</th>\n",
       "      <th>Shape_Leng</th>\n",
       "      <th>Shape_Area</th>\n",
       "      <th>geometry_y</th>\n",
       "    </tr>\n",
       "    <tr>\n",
       "      <th>_merge</th>\n",
       "      <th></th>\n",
       "      <th></th>\n",
       "      <th></th>\n",
       "      <th></th>\n",
       "      <th></th>\n",
       "      <th></th>\n",
       "      <th></th>\n",
       "      <th></th>\n",
       "      <th></th>\n",
       "      <th></th>\n",
       "      <th></th>\n",
       "      <th></th>\n",
       "      <th></th>\n",
       "      <th></th>\n",
       "      <th></th>\n",
       "      <th></th>\n",
       "      <th></th>\n",
       "      <th></th>\n",
       "      <th></th>\n",
       "      <th></th>\n",
       "      <th></th>\n",
       "    </tr>\n",
       "  </thead>\n",
       "  <tbody>\n",
       "    <tr>\n",
       "      <th>left_only</th>\n",
       "      <td>0</td>\n",
       "      <td>0</td>\n",
       "      <td>0</td>\n",
       "      <td>0</td>\n",
       "      <td>0</td>\n",
       "      <td>0</td>\n",
       "      <td>0</td>\n",
       "      <td>0</td>\n",
       "      <td>0</td>\n",
       "      <td>0</td>\n",
       "      <td>...</td>\n",
       "      <td>0</td>\n",
       "      <td>0</td>\n",
       "      <td>0</td>\n",
       "      <td>0</td>\n",
       "      <td>0</td>\n",
       "      <td>0</td>\n",
       "      <td>0</td>\n",
       "      <td>0</td>\n",
       "      <td>0</td>\n",
       "      <td>0</td>\n",
       "    </tr>\n",
       "    <tr>\n",
       "      <th>right_only</th>\n",
       "      <td>0</td>\n",
       "      <td>0</td>\n",
       "      <td>0</td>\n",
       "      <td>0</td>\n",
       "      <td>0</td>\n",
       "      <td>0</td>\n",
       "      <td>0</td>\n",
       "      <td>0</td>\n",
       "      <td>0</td>\n",
       "      <td>0</td>\n",
       "      <td>...</td>\n",
       "      <td>0</td>\n",
       "      <td>0</td>\n",
       "      <td>0</td>\n",
       "      <td>0</td>\n",
       "      <td>0</td>\n",
       "      <td>0</td>\n",
       "      <td>0</td>\n",
       "      <td>0</td>\n",
       "      <td>0</td>\n",
       "      <td>0</td>\n",
       "    </tr>\n",
       "    <tr>\n",
       "      <th>both</th>\n",
       "      <td>4120</td>\n",
       "      <td>4120</td>\n",
       "      <td>4120</td>\n",
       "      <td>1719</td>\n",
       "      <td>4120</td>\n",
       "      <td>4120</td>\n",
       "      <td>4120</td>\n",
       "      <td>4120</td>\n",
       "      <td>4120</td>\n",
       "      <td>4120</td>\n",
       "      <td>...</td>\n",
       "      <td>4120</td>\n",
       "      <td>4120</td>\n",
       "      <td>4120</td>\n",
       "      <td>4120</td>\n",
       "      <td>4120</td>\n",
       "      <td>4120</td>\n",
       "      <td>4120</td>\n",
       "      <td>4120</td>\n",
       "      <td>4120</td>\n",
       "      <td>4120</td>\n",
       "    </tr>\n",
       "  </tbody>\n",
       "</table>\n",
       "<p>3 rows × 83 columns</p>\n",
       "</div>"
      ],
      "text/plain": [
       "            VTDID  PCTNAME_x  PCTCODE_x  SHORTLABEL_x  MCDNAME_x  MCDCODE_x  \\\n",
       "_merge                                                                        \n",
       "left_only       0          0          0             0          0          0   \n",
       "right_only      0          0          0             0          0          0   \n",
       "both         4120       4120       4120          1719       4120       4120   \n",
       "\n",
       "            MCDFIPS_x  MCDGNIS_x  G16PRERTru_x  G16PREDCli_x  ...  MNLEGDFL  \\\n",
       "_merge                                                        ...             \n",
       "left_only           0          0             0             0  ...         0   \n",
       "right_only          0          0             0             0  ...         0   \n",
       "both             4120       4120          4120          4120  ...      4120   \n",
       "\n",
       "            MNLEGWI  MNLEGTOTAL  MNCA1YES  MNCA1NO  MNCA1EST  MNCA1TOTAL  \\\n",
       "_merge                                                                     \n",
       "left_only         0           0         0        0         0           0   \n",
       "right_only        0           0         0        0         0           0   \n",
       "both           4120        4120      4120     4120      4120        4120   \n",
       "\n",
       "            Shape_Leng  Shape_Area  geometry_y  \n",
       "_merge                                          \n",
       "left_only            0           0           0  \n",
       "right_only           0           0           0  \n",
       "both              4120        4120        4120  \n",
       "\n",
       "[3 rows x 83 columns]"
      ]
     },
     "execution_count": 26,
     "metadata": {},
     "output_type": "execute_result"
    }
   ],
   "source": [
    "merged_df = vest_shp.merge(gdf, how = 'outer', on = 'VTDID', indicator = True)\n",
    "merged_df.groupby('_merge').count()"
   ]
  },
  {
   "cell_type": "markdown",
   "metadata": {},
   "source": [
    "# Validating Election Results"
   ]
  },
  {
   "cell_type": "markdown",
   "metadata": {},
   "source": [
    "## Statewide"
   ]
  },
  {
   "cell_type": "code",
   "execution_count": 27,
   "metadata": {},
   "outputs": [
    {
     "data": {
      "text/plain": [
       "Index(['VTDID', 'PCTNAME', 'PCTCODE', 'SHORTLABEL', 'MCDNAME', 'MCDCODE',\n",
       "       'MCDFIPS', 'MCDGNIS', 'G16PRERTru', 'G16PREDCli', 'G16PRECCas',\n",
       "       'G16PREMVac', 'G16PRESKen', 'G16PREGSte', 'G16PREIDeL', 'G16PREIMcM',\n",
       "       'G16PRELJoh', 'G16PREOth', 'geometry', 'COUNTYFIPS'],\n",
       "      dtype='object')"
      ]
     },
     "execution_count": 27,
     "metadata": {},
     "output_type": "execute_result"
    }
   ],
   "source": [
    "vest_shp.columns"
   ]
  },
  {
   "cell_type": "code",
   "execution_count": 28,
   "metadata": {},
   "outputs": [
    {
     "name": "stdout",
     "output_type": "stream",
     "text": [
      "Printing differences below\n",
      "G16PRERTru is equal \tVEST: 1322951 \tRDH: 1322951\n",
      "G16PREDCli is equal \tVEST: 1367716 \tRDH: 1367716\n",
      "G16PRECCas is equal \tVEST: 9456 \tRDH: 9456\n",
      "G16PREMVac is equal \tVEST: 11291 \tRDH: 11291\n",
      "G16PRESKen is equal \tVEST: 1672 \tRDH: 1672\n",
      "G16PREGSte is equal \tVEST: 36985 \tRDH: 36985\n",
      "G16PREIDeL is equal \tVEST: 1431 \tRDH: 1431\n",
      "G16PREIMcM is equal \tVEST: 53076 \tRDH: 53076\n",
      "G16PRELJoh is equal \tVEST: 112972 \tRDH: 112972\n",
      "G16PREOth is equal \tVEST: 27263 \tRDH: 27263\n",
      "\n",
      "All other races are equal\n"
     ]
    }
   ],
   "source": [
    "data_columns = ['G16PRERTru', 'G16PREDCli', 'G16PRECCas',\n",
    "       'G16PREMVac', 'G16PRESKen', 'G16PREGSte', 'G16PREIDeL', 'G16PREIMcM',\n",
    "       'G16PRELJoh', 'G16PREOth']\n",
    "\n",
    "print(\"Printing differences below\")\n",
    "for race in data_columns:\n",
    "    if (sum(vest_shp[race])- gdf[race].sum() != 0):\n",
    "        print(race+\" has a difference of \"+str(sum(vest_shp[race])-gdf[race].sum())+\" votes\")\n",
    "        print(\"\\tVEST: \"+str(sum(vest_shp[race]))+\" votes\")\n",
    "        print(\"\\tSOURCES: \"+str(gdf[race].sum())+\" votes\")\n",
    "    else:\n",
    "        print(race + \" is equal\", \"\\tVEST: \" + str(sum(vest_shp[race])), \"\\tRDH: \" + str(gdf[race].sum()))\n",
    "print(\"\")\n",
    "print(\"All other races are equal\")\n"
   ]
  },
  {
   "cell_type": "markdown",
   "metadata": {},
   "source": [
    "## County-by-County Totals"
   ]
  },
  {
   "cell_type": "code",
   "execution_count": 29,
   "metadata": {},
   "outputs": [
    {
     "name": "stdout",
     "output_type": "stream",
     "text": [
      "Counties with differences printed below:\n",
      "\n",
      "All other races in all counties are equal\n"
     ]
    }
   ],
   "source": [
    "print(\"Counties with differences printed below:\")\n",
    "diff_counties=[]\n",
    "for i in data_columns:\n",
    "    diff = vest_shp.groupby([\"COUNTYFIPS\"]).sum()[i]-gdf.groupby([\"COUNTYFIPS\"]).sum()[i]\n",
    "    for val in diff[diff != 0].index.values.tolist():\n",
    "        if val not in diff_counties:\n",
    "            diff_counties.append(val)\n",
    "    if len(diff[diff != 0]!=0):\n",
    "        print(i)\n",
    "        print(diff[diff != 0].to_string(header=False))\n",
    "print(\"\")\n",
    "print(\"All other races in all counties are equal\")\n"
   ]
  },
  {
   "cell_type": "markdown",
   "metadata": {},
   "source": [
    "Skipping the county by county totals because VEST did not keep the county field on their file."
   ]
  },
  {
   "cell_type": "markdown",
   "metadata": {},
   "source": [
    "## Precinct-by-Precinct Totals"
   ]
  },
  {
   "cell_type": "code",
   "execution_count": 30,
   "metadata": {},
   "outputs": [
    {
     "name": "stdout",
     "output_type": "stream",
     "text": [
      "\n",
      "There are  4120  total rows\n",
      "0  of these rows have election result differences\n",
      "4120  of these rows are the same\n",
      "\n",
      "The max difference between any one shared column in a row is:  0\n",
      "There are  0 precinct results with a difference greater than 10\n",
      "[]\n"
     ]
    }
   ],
   "source": [
    "def validater_row (df, column_List):\n",
    "    matching_rows = 0\n",
    "    different_rows = 0\n",
    "    diff_list=[]\n",
    "    diff_values = []\n",
    "    max_diff = 0\n",
    "    for j in range(0,len(df.index)):\n",
    "        same = True\n",
    "        for i in column_List:\n",
    "            left_Data = i + \"_x\"\n",
    "            right_Data = i + \"_y\"\n",
    "            diff = abs(df.iloc[j][left_Data]-df.iloc[j][right_Data])\n",
    "            if(diff >0):\n",
    "                if(diff>0):\n",
    "                    print(i, \"{:.>72}\".format(df.iloc[j][\"VTDID\"]), \"(V)\",\"{:.>5}\".format(int(df.iloc[j][left_Data])),\" (S){:.>5}\".format(int(df.iloc[j][right_Data])),\"(D):{:>5}\".format(int(df.iloc[j][right_Data])-int(df.iloc[j][left_Data])))           \n",
    "                #print(df.iloc[j]['countypct'])\n",
    "                \n",
    "                diff_values.append(abs(diff))\n",
    "                same = False\n",
    "                if(np.isnan(diff)):\n",
    "                    print(\"NaN value at diff is: \", df.iloc[j][\"VTDID\"])\n",
    "                    print(df.iloc[j][left_Data])\n",
    "                    print(df.iloc[j][right_Data])\n",
    "                if (diff>max_diff):\n",
    "                    max_diff = diff\n",
    "                    #print(\"New max diff is: \", str(max_diff))\n",
    "                    #print(df.iloc[j]['cty_pct'])\n",
    "        if(same != True):\n",
    "            different_rows +=1\n",
    "            diff_list.append(df.iloc[j][\"VTDID\"])\n",
    "        else:\n",
    "            matching_rows +=1\n",
    "    print(\"\")\n",
    "    print(\"There are \", len(df.index),\" total rows\")\n",
    "    print(different_rows,\" of these rows have election result differences\")\n",
    "    print(matching_rows,\" of these rows are the same\")\n",
    "    print(\"\")\n",
    "    print(\"The max difference between any one shared column in a row is: \", max_diff)\n",
    "    if(len(diff_values)!=0):\n",
    "        print(\"The average difference is: \", str(sum(diff_values)/len(diff_values)))\n",
    "    count_big_diff = len([i for i in diff_values if i > 10])\n",
    "    print(\"There are \", str(count_big_diff), \"precinct results with a difference greater than 10\")\n",
    "    diff_list.sort()\n",
    "    print(diff_list)\n",
    "    \n",
    "validater_row(merged_df,data_columns)\n"
   ]
  }
 ],
 "metadata": {
  "kernelspec": {
   "display_name": "Python 3",
   "language": "python",
   "name": "python3"
  },
  "language_info": {
   "codemirror_mode": {
    "name": "ipython",
    "version": 3
   },
   "file_extension": ".py",
   "mimetype": "text/x-python",
   "name": "python",
   "nbconvert_exporter": "python",
   "pygments_lexer": "ipython3",
   "version": "3.9.2"
  }
 },
 "nbformat": 4,
 "nbformat_minor": 4
}
