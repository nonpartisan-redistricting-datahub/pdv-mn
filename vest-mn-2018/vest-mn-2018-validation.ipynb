{
 "cells": [
  {
   "cell_type": "code",
   "execution_count": 1,
   "metadata": {},
   "outputs": [],
   "source": [
    "import pandas as pd\n",
    "import sys\n",
    "import numpy as np\n",
    "import geopandas as gp\n",
    "import matplotlib.pyplot as plt"
   ]
  },
  {
   "cell_type": "markdown",
   "metadata": {},
   "source": [
    "# Precinct Shapefile"
   ]
  },
  {
   "cell_type": "markdown",
   "metadata": {},
   "source": [
    "## VEST's Documentation File"
   ]
  },
  {
   "cell_type": "markdown",
   "metadata": {},
   "source": [
    "Election results and precinct shapefile from the Minnesota Secretary of State (https://gisdata.mn.gov/dataset/bdry-electionresults-2012-2020)\n",
    "\n",
    "- G18USSRNEW - Jim Newberger (Republican Party)\n",
    "- G18USSDKLO - Amy Klobuchar (Democratic-Farmer-Labor Party)\n",
    "- G18USSMSCH - Dennis Schuller (Legal Marijuana Now Party)\n",
    "- G18USSGOVE - Paula M. Overby (Minnesota Green Party)\n",
    "- G18USSOWRI - Write-in Votes\n",
    "\n",
    "\n",
    "- S18USSRHOU - Karin Housley (Republican Party)\n",
    "- S18USSDSMI - Tina Smith (Democratic-Farmer-Labor Party)\n",
    "- S18USSMWEL - Sarah Wellington (Legal Marijuana Now Party)\n",
    "- S18USSUTRO - Jerry Trooien (Unaffiliated)\n",
    "- S18USSOWRI - Write-in Votes\n",
    "\n",
    "\n",
    "- G18GOVRJOH - Jeff Johnson (Republican Party)\n",
    "- G18GOVDWAL - Tim Walz (Democratic-Farmer-Labor Party)\n",
    "- G18GOVMWRI - Chris Wright (Grassroots - Legalize Cannabis Party)\n",
    "- G18GOVLWEL - Josh Welter (Libertarian Party)\n",
    "- G18GOVOWRI - Write-in Votes\n",
    "\n",
    "\n",
    "- G18SOSRHOW - John Howe (Republican Party)\n",
    "- G18SOSDSIM - Steve Simon (Democratic-Farmer-Labor Party)\n",
    "- G18SOSIDEN - William Denney (Independence Party)\n",
    "- G18SOSOWRI - Write-in Votes\n",
    "\n",
    "\n",
    "- G18AUDRMYH - Pam Myhra (Republican Party)\n",
    "- G18AUDDBLA - Julie Blaha (Democratic-Farmer-Labor Party)\n",
    "- G18AUDMFOR - Michael Ford (Legal Marijuana Now Party)\n",
    "- G18AUDLDOC - Chris Dock (Libertarian Party)\n",
    "- G18AUDOWRI - Write-in Votes\n",
    "\n",
    "\n",
    "- G18ATGRWAR - Doug Wardlow (Republican Party)\n",
    "- G18ATGDELL - Keith Ellison (Democratic-Farmer-Labor Party)\n",
    "- G18ATGMJOH - Noah M. Johnson (Grassroots - Legalize Cannabis Party)\n",
    "- G18ATGOWRI - Write-in Votes\n"
   ]
  },
  {
   "cell_type": "markdown",
   "metadata": {},
   "source": [
    "## Load VEST's Final File"
   ]
  },
  {
   "cell_type": "code",
   "execution_count": 2,
   "metadata": {},
   "outputs": [],
   "source": [
    "vest_shp = gp.read_file(\"./raw-from-source/VEST/mn_2018/mn_2018.shp\")"
   ]
  },
  {
   "cell_type": "code",
   "execution_count": 3,
   "metadata": {},
   "outputs": [
    {
     "data": {
      "text/plain": [
       "(4113, 44)"
      ]
     },
     "execution_count": 3,
     "metadata": {},
     "output_type": "execute_result"
    }
   ],
   "source": [
    "vest_shp.shape"
   ]
  },
  {
   "cell_type": "code",
   "execution_count": 4,
   "metadata": {},
   "outputs": [
    {
     "data": {
      "text/html": [
       "<div>\n",
       "<style scoped>\n",
       "    .dataframe tbody tr th:only-of-type {\n",
       "        vertical-align: middle;\n",
       "    }\n",
       "\n",
       "    .dataframe tbody tr th {\n",
       "        vertical-align: top;\n",
       "    }\n",
       "\n",
       "    .dataframe thead th {\n",
       "        text-align: right;\n",
       "    }\n",
       "</style>\n",
       "<table border=\"1\" class=\"dataframe\">\n",
       "  <thead>\n",
       "    <tr style=\"text-align: right;\">\n",
       "      <th></th>\n",
       "      <th>COUNTYNAME</th>\n",
       "      <th>COUNTYFIPS</th>\n",
       "      <th>VTDID</th>\n",
       "      <th>PCTNAME</th>\n",
       "      <th>PCTCODE</th>\n",
       "      <th>SHORTLABEL</th>\n",
       "      <th>MCDNAME</th>\n",
       "      <th>MCDCODE</th>\n",
       "      <th>MCDFIPS</th>\n",
       "      <th>MCDGNIS</th>\n",
       "      <th>...</th>\n",
       "      <th>G18AUDRMYH</th>\n",
       "      <th>G18AUDDBLA</th>\n",
       "      <th>G18AUDMFOR</th>\n",
       "      <th>G18AUDLDOC</th>\n",
       "      <th>G18AUDOWRI</th>\n",
       "      <th>G18ATGRWAR</th>\n",
       "      <th>G18ATGDELL</th>\n",
       "      <th>G18ATGMJOH</th>\n",
       "      <th>G18ATGOWRI</th>\n",
       "      <th>geometry</th>\n",
       "    </tr>\n",
       "  </thead>\n",
       "  <tbody>\n",
       "    <tr>\n",
       "      <th>0</th>\n",
       "      <td>Aitkin</td>\n",
       "      <td>001</td>\n",
       "      <td>270010005</td>\n",
       "      <td>Aitkin</td>\n",
       "      <td>0005</td>\n",
       "      <td>None</td>\n",
       "      <td>Aitkin</td>\n",
       "      <td>004</td>\n",
       "      <td>00460</td>\n",
       "      <td>02393894</td>\n",
       "      <td>...</td>\n",
       "      <td>381</td>\n",
       "      <td>338</td>\n",
       "      <td>56</td>\n",
       "      <td>18</td>\n",
       "      <td>0</td>\n",
       "      <td>414</td>\n",
       "      <td>326</td>\n",
       "      <td>60</td>\n",
       "      <td>3</td>\n",
       "      <td>POLYGON ((447378.031 5154733.389, 448085.138 5...</td>\n",
       "    </tr>\n",
       "  </tbody>\n",
       "</table>\n",
       "<p>1 rows × 44 columns</p>\n",
       "</div>"
      ],
      "text/plain": [
       "  COUNTYNAME COUNTYFIPS      VTDID PCTNAME PCTCODE SHORTLABEL MCDNAME MCDCODE  \\\n",
       "0     Aitkin        001  270010005  Aitkin    0005       None  Aitkin     004   \n",
       "\n",
       "  MCDFIPS   MCDGNIS  ... G18AUDRMYH G18AUDDBLA G18AUDMFOR G18AUDLDOC  \\\n",
       "0   00460  02393894  ...        381        338         56         18   \n",
       "\n",
       "  G18AUDOWRI  G18ATGRWAR  G18ATGDELL  G18ATGMJOH  G18ATGOWRI  \\\n",
       "0          0         414         326          60           3   \n",
       "\n",
       "                                            geometry  \n",
       "0  POLYGON ((447378.031 5154733.389, 448085.138 5...  \n",
       "\n",
       "[1 rows x 44 columns]"
      ]
     },
     "execution_count": 4,
     "metadata": {},
     "output_type": "execute_result"
    }
   ],
   "source": [
    "vest_shp.head(1)"
   ]
  },
  {
   "cell_type": "code",
   "execution_count": 5,
   "metadata": {},
   "outputs": [
    {
     "data": {
      "text/plain": [
       "<matplotlib.axes._subplots.AxesSubplot at 0x7f842ac05190>"
      ]
     },
     "execution_count": 5,
     "metadata": {},
     "output_type": "execute_result"
    },
    {
     "data": {
      "image/png": "[encoded data removed]",
      "text/plain": [
       "<Figure size 432x288 with 1 Axes>"
      ]
     },
     "metadata": {
      "needs_background": "light"
     },
     "output_type": "display_data"
    }
   ],
   "source": [
    "vest_shp.boundary.plot()"
   ]
  },
  {
   "cell_type": "markdown",
   "metadata": {},
   "source": [
    "# Load the SOS File"
   ]
  },
  {
   "cell_type": "code",
   "execution_count": 6,
   "metadata": {},
   "outputs": [],
   "source": [
    "gdf = gp.read_file('./raw-from-source/SOS/shp_bdry_electionresults_2012_2020/general_election_results_by_precinct_2018.shp')"
   ]
  },
  {
   "cell_type": "code",
   "execution_count": 7,
   "metadata": {},
   "outputs": [
    {
     "data": {
      "text/html": [
       "<div>\n",
       "<style scoped>\n",
       "    .dataframe tbody tr th:only-of-type {\n",
       "        vertical-align: middle;\n",
       "    }\n",
       "\n",
       "    .dataframe tbody tr th {\n",
       "        vertical-align: top;\n",
       "    }\n",
       "\n",
       "    .dataframe thead th {\n",
       "        text-align: right;\n",
       "    }\n",
       "</style>\n",
       "<table border=\"1\" class=\"dataframe\">\n",
       "  <thead>\n",
       "    <tr style=\"text-align: right;\">\n",
       "      <th></th>\n",
       "      <th>VTDID</th>\n",
       "      <th>PCTNAME</th>\n",
       "      <th>PCTCODE</th>\n",
       "      <th>SHORTLABEL</th>\n",
       "      <th>MCDNAME</th>\n",
       "      <th>MCDCODE</th>\n",
       "      <th>MCDFIPS</th>\n",
       "      <th>MCDGNIS</th>\n",
       "      <th>CTU_TYPE</th>\n",
       "      <th>COUNTYNAME</th>\n",
       "      <th>...</th>\n",
       "      <th>MNAUDWI</th>\n",
       "      <th>MNAUDTOTAL</th>\n",
       "      <th>MNAGR</th>\n",
       "      <th>MNAGDFL</th>\n",
       "      <th>MNAGGLC</th>\n",
       "      <th>MNAGWI</th>\n",
       "      <th>MNAGTOTAL</th>\n",
       "      <th>Shape_Leng</th>\n",
       "      <th>Shape_Area</th>\n",
       "      <th>geometry</th>\n",
       "    </tr>\n",
       "  </thead>\n",
       "  <tbody>\n",
       "    <tr>\n",
       "      <th>0</th>\n",
       "      <td>270010005</td>\n",
       "      <td>Aitkin</td>\n",
       "      <td>0005</td>\n",
       "      <td>None</td>\n",
       "      <td>Aitkin</td>\n",
       "      <td>004</td>\n",
       "      <td>00460</td>\n",
       "      <td>02393894</td>\n",
       "      <td>city</td>\n",
       "      <td>Aitkin</td>\n",
       "      <td>...</td>\n",
       "      <td>0</td>\n",
       "      <td>793</td>\n",
       "      <td>414</td>\n",
       "      <td>326</td>\n",
       "      <td>60</td>\n",
       "      <td>3</td>\n",
       "      <td>803</td>\n",
       "      <td>31638.833260</td>\n",
       "      <td>6.629747e+06</td>\n",
       "      <td>POLYGON ((447378.031 5154733.389, 448085.138 5...</td>\n",
       "    </tr>\n",
       "    <tr>\n",
       "      <th>1</th>\n",
       "      <td>270010010</td>\n",
       "      <td>Aitkin Twp</td>\n",
       "      <td>0010</td>\n",
       "      <td>None</td>\n",
       "      <td>Aitkin Twp</td>\n",
       "      <td>005</td>\n",
       "      <td>00478</td>\n",
       "      <td>00663389</td>\n",
       "      <td>township</td>\n",
       "      <td>Aitkin</td>\n",
       "      <td>...</td>\n",
       "      <td>0</td>\n",
       "      <td>467</td>\n",
       "      <td>312</td>\n",
       "      <td>137</td>\n",
       "      <td>24</td>\n",
       "      <td>1</td>\n",
       "      <td>474</td>\n",
       "      <td>67719.452182</td>\n",
       "      <td>8.780913e+07</td>\n",
       "      <td>MULTIPOLYGON (((445904.069 5151658.489, 445903...</td>\n",
       "    </tr>\n",
       "    <tr>\n",
       "      <th>2</th>\n",
       "      <td>270010015</td>\n",
       "      <td>Ball Bluff Twp</td>\n",
       "      <td>0015</td>\n",
       "      <td>None</td>\n",
       "      <td>Ball Bluff Twp</td>\n",
       "      <td>015</td>\n",
       "      <td>03358</td>\n",
       "      <td>00663498</td>\n",
       "      <td>township</td>\n",
       "      <td>Aitkin</td>\n",
       "      <td>...</td>\n",
       "      <td>0</td>\n",
       "      <td>155</td>\n",
       "      <td>79</td>\n",
       "      <td>66</td>\n",
       "      <td>9</td>\n",
       "      <td>0</td>\n",
       "      <td>154</td>\n",
       "      <td>38301.248800</td>\n",
       "      <td>9.148057e+07</td>\n",
       "      <td>POLYGON ((485475.521 5207980.031, 485475.766 5...</td>\n",
       "    </tr>\n",
       "    <tr>\n",
       "      <th>3</th>\n",
       "      <td>270010020</td>\n",
       "      <td>Balsam Twp</td>\n",
       "      <td>0020</td>\n",
       "      <td>None</td>\n",
       "      <td>Balsam Twp</td>\n",
       "      <td>020</td>\n",
       "      <td>03412</td>\n",
       "      <td>00663499</td>\n",
       "      <td>township</td>\n",
       "      <td>Aitkin</td>\n",
       "      <td>...</td>\n",
       "      <td>0</td>\n",
       "      <td>19</td>\n",
       "      <td>10</td>\n",
       "      <td>10</td>\n",
       "      <td>0</td>\n",
       "      <td>0</td>\n",
       "      <td>20</td>\n",
       "      <td>38988.094778</td>\n",
       "      <td>9.517941e+07</td>\n",
       "      <td>POLYGON ((495441.473 5188825.678, 495423.020 5...</td>\n",
       "    </tr>\n",
       "    <tr>\n",
       "      <th>4</th>\n",
       "      <td>270010025</td>\n",
       "      <td>Beaver Twp</td>\n",
       "      <td>0025</td>\n",
       "      <td>None</td>\n",
       "      <td>Beaver Twp</td>\n",
       "      <td>025</td>\n",
       "      <td>04384</td>\n",
       "      <td>00663536</td>\n",
       "      <td>township</td>\n",
       "      <td>Aitkin</td>\n",
       "      <td>...</td>\n",
       "      <td>0</td>\n",
       "      <td>36</td>\n",
       "      <td>12</td>\n",
       "      <td>21</td>\n",
       "      <td>2</td>\n",
       "      <td>0</td>\n",
       "      <td>35</td>\n",
       "      <td>38288.614190</td>\n",
       "      <td>9.135949e+07</td>\n",
       "      <td>POLYGON ((495765.091 5140614.891, 494153.670 5...</td>\n",
       "    </tr>\n",
       "  </tbody>\n",
       "</table>\n",
       "<p>5 rows × 82 columns</p>\n",
       "</div>"
      ],
      "text/plain": [
       "       VTDID         PCTNAME PCTCODE SHORTLABEL         MCDNAME MCDCODE  \\\n",
       "0  270010005          Aitkin    0005       None          Aitkin     004   \n",
       "1  270010010      Aitkin Twp    0010       None      Aitkin Twp     005   \n",
       "2  270010015  Ball Bluff Twp    0015       None  Ball Bluff Twp     015   \n",
       "3  270010020      Balsam Twp    0020       None      Balsam Twp     020   \n",
       "4  270010025      Beaver Twp    0025       None      Beaver Twp     025   \n",
       "\n",
       "  MCDFIPS   MCDGNIS  CTU_TYPE COUNTYNAME  ... MNAUDWI MNAUDTOTAL MNAGR  \\\n",
       "0   00460  02393894      city     Aitkin  ...       0        793   414   \n",
       "1   00478  00663389  township     Aitkin  ...       0        467   312   \n",
       "2   03358  00663498  township     Aitkin  ...       0        155    79   \n",
       "3   03412  00663499  township     Aitkin  ...       0         19    10   \n",
       "4   04384  00663536  township     Aitkin  ...       0         36    12   \n",
       "\n",
       "  MNAGDFL MNAGGLC MNAGWI MNAGTOTAL    Shape_Leng    Shape_Area  \\\n",
       "0     326      60      3       803  31638.833260  6.629747e+06   \n",
       "1     137      24      1       474  67719.452182  8.780913e+07   \n",
       "2      66       9      0       154  38301.248800  9.148057e+07   \n",
       "3      10       0      0        20  38988.094778  9.517941e+07   \n",
       "4      21       2      0        35  38288.614190  9.135949e+07   \n",
       "\n",
       "                                            geometry  \n",
       "0  POLYGON ((447378.031 5154733.389, 448085.138 5...  \n",
       "1  MULTIPOLYGON (((445904.069 5151658.489, 445903...  \n",
       "2  POLYGON ((485475.521 5207980.031, 485475.766 5...  \n",
       "3  POLYGON ((495441.473 5188825.678, 495423.020 5...  \n",
       "4  POLYGON ((495765.091 5140614.891, 494153.670 5...  \n",
       "\n",
       "[5 rows x 82 columns]"
      ]
     },
     "execution_count": 7,
     "metadata": {},
     "output_type": "execute_result"
    }
   ],
   "source": [
    "gdf.head()"
   ]
  },
  {
   "cell_type": "code",
   "execution_count": 8,
   "metadata": {},
   "outputs": [
    {
     "data": {
      "text/plain": [
       "Index(['VTDID', 'PCTNAME', 'PCTCODE', 'SHORTLABEL', 'MCDNAME', 'MCDCODE',\n",
       "       'MCDFIPS', 'MCDGNIS', 'CTU_TYPE', 'COUNTYNAME', 'COUNTYCODE',\n",
       "       'COUNTYFIPS', 'CONGDIST', 'MNSENDIST', 'MNLEGDIST', 'CTYCOMDIST',\n",
       "       'JUDDIST', 'SWCDIST', 'SWCDIST_N', 'WARD', 'HOSPDIST', 'HOSPDIST_N',\n",
       "       'PARKDIST', 'PARKDIST_N', 'TABSYSTEM', 'TABMODEL', 'MAILBALLOT',\n",
       "       'REG7AM', 'SIGNATURES', 'EDR', 'AB_MB', 'FEDONLYAB', 'TOTVOTING',\n",
       "       'USSENR', 'USSENDFL', 'USSENLMN', 'USSENMGP', 'USSENWI', 'USSENTOTAL',\n",
       "       'USSSER', 'USSSEDFL', 'USSSELMN', 'USSSEUA', 'USSSEWI', 'USSSETOTAL',\n",
       "       'USREPR', 'USREPDFL', 'USREPWI', 'USREPTOTAL', 'MNSENR', 'MNSENDFL',\n",
       "       'MNSENWI', 'MNSENTOTAL', 'MNLEGR', 'MNLEGDFL', 'MNLEGWI', 'MNLEGTOTAL',\n",
       "       'MNGOVR', 'MNGOVDFL', 'MNGOVGLC', 'MNGOVLIB', 'MNGOVWI', 'MNGOVTOTAL',\n",
       "       'MNSOSR', 'MNSOSDFL', 'MNSOSIP', 'MNSOSWI', 'MNSOSTOTAL', 'MNAUDR',\n",
       "       'MNAUDDFL', 'MNAUDLMN', 'MNAUDLP', 'MNAUDWI', 'MNAUDTOTAL', 'MNAGR',\n",
       "       'MNAGDFL', 'MNAGGLC', 'MNAGWI', 'MNAGTOTAL', 'Shape_Leng', 'Shape_Area',\n",
       "       'geometry'],\n",
       "      dtype='object')"
      ]
     },
     "execution_count": 8,
     "metadata": {},
     "output_type": "execute_result"
    }
   ],
   "source": [
    "gdf.columns"
   ]
  },
  {
   "cell_type": "markdown",
   "metadata": {},
   "source": [
    "The SOS file already has election results and the precinct shapefile joined together. "
   ]
  },
  {
   "cell_type": "code",
   "execution_count": 9,
   "metadata": {},
   "outputs": [],
   "source": [
    "gdf.columns = ['VTDID', 'PCTNAME', 'PCTCODE', 'SHORTLABEL', 'MCDNAME', 'MCDCODE',\n",
    "       'MCDFIPS', 'MCDGNIS', 'CTU_TYPE', 'COUNTYNAME', 'COUNTYCODE',\n",
    "       'COUNTYFIPS', 'CONGDIST', 'MNSENDIST', 'MNLEGDIST', 'CTYCOMDIST',\n",
    "       'JUDDIST', 'SWCDIST', 'SWCDIST_N', 'WARD', 'HOSPDIST', 'HOSPDIST_N',\n",
    "       'PARKDIST', 'PARKDIST_N', 'TABSYSTEM', 'TABMODEL', 'MAILBALLOT',\n",
    "       'REG7AM', 'SIGNATURES', 'EDR', 'AB_MB', 'FEDONLYAB', 'TOTVOTING',\n",
    "       'G18USSRNEW', 'G18USSDKLO', 'G18USSMSCH', 'G18USSGOVE', 'G18USSOWRI', 'USSENTOTAL',\n",
    "       'S18USSRHOU', 'S18USSDSMI', 'S18USSMWEL', 'S18USSUTRO', 'S18USSOWRI', 'USSSETOTAL',\n",
    "       'USREPR', 'USREPDFL', 'USREPWI', 'USREPTOTAL', 'MNSENR', 'MNSENDFL',\n",
    "       'MNSENWI', 'MNSENTOTAL', 'MNLEGR', 'MNLEGDFL', 'MNLEGWI', 'MNLEGTOTAL',\n",
    "       'G18GOVRJOH', 'G18GOVDWAL', 'G18GOVMWRI', 'G18GOVLWEL', 'G18GOVOWRI', 'MNGOVTOTAL',\n",
    "       'G18SOSRHOW', 'G18SOSDSIM', 'G18SOSIDEN', 'G18SOSOWRI', 'MNSOSTOTAL', 'G18AUDRMYH',\n",
    "       'G18AUDDBLA', 'G18AUDMFOR', 'G18AUDLDOC', 'G18AUDOWRI', 'MNAUDTOTAL', 'G18ATGRWAR',\n",
    "       'G18ATGDELL', 'G18ATGMJOH', 'G18ATGOWRI', 'MNAGTOTAL', 'Shape_Leng', 'Shape_Area',\n",
    "       'geometry']"
   ]
  },
  {
   "cell_type": "markdown",
   "metadata": {},
   "source": [
    "# Join Files"
   ]
  },
  {
   "cell_type": "code",
   "execution_count": 10,
   "metadata": {},
   "outputs": [
    {
     "name": "stdout",
     "output_type": "stream",
     "text": [
      "(4113, 44)\n",
      "(4113, 82)\n"
     ]
    }
   ],
   "source": [
    "print(vest_shp.shape)\n",
    "print(gdf.shape)"
   ]
  },
  {
   "cell_type": "code",
   "execution_count": 11,
   "metadata": {},
   "outputs": [
    {
     "data": {
      "text/html": [
       "<div>\n",
       "<style scoped>\n",
       "    .dataframe tbody tr th:only-of-type {\n",
       "        vertical-align: middle;\n",
       "    }\n",
       "\n",
       "    .dataframe tbody tr th {\n",
       "        vertical-align: top;\n",
       "    }\n",
       "\n",
       "    .dataframe thead th {\n",
       "        text-align: right;\n",
       "    }\n",
       "</style>\n",
       "<table border=\"1\" class=\"dataframe\">\n",
       "  <thead>\n",
       "    <tr style=\"text-align: right;\">\n",
       "      <th></th>\n",
       "      <th>COUNTYNAME_x</th>\n",
       "      <th>COUNTYFIPS_x</th>\n",
       "      <th>VTDID</th>\n",
       "      <th>PCTNAME_x</th>\n",
       "      <th>PCTCODE_x</th>\n",
       "      <th>SHORTLABEL_x</th>\n",
       "      <th>MCDNAME_x</th>\n",
       "      <th>MCDCODE_x</th>\n",
       "      <th>MCDFIPS_x</th>\n",
       "      <th>MCDGNIS_x</th>\n",
       "      <th>...</th>\n",
       "      <th>G18AUDOWRI_y</th>\n",
       "      <th>MNAUDTOTAL</th>\n",
       "      <th>G18ATGRWAR_y</th>\n",
       "      <th>G18ATGDELL_y</th>\n",
       "      <th>G18ATGMJOH_y</th>\n",
       "      <th>G18ATGOWRI_y</th>\n",
       "      <th>MNAGTOTAL</th>\n",
       "      <th>Shape_Leng</th>\n",
       "      <th>Shape_Area</th>\n",
       "      <th>geometry_y</th>\n",
       "    </tr>\n",
       "    <tr>\n",
       "      <th>_merge</th>\n",
       "      <th></th>\n",
       "      <th></th>\n",
       "      <th></th>\n",
       "      <th></th>\n",
       "      <th></th>\n",
       "      <th></th>\n",
       "      <th></th>\n",
       "      <th></th>\n",
       "      <th></th>\n",
       "      <th></th>\n",
       "      <th></th>\n",
       "      <th></th>\n",
       "      <th></th>\n",
       "      <th></th>\n",
       "      <th></th>\n",
       "      <th></th>\n",
       "      <th></th>\n",
       "      <th></th>\n",
       "      <th></th>\n",
       "      <th></th>\n",
       "      <th></th>\n",
       "    </tr>\n",
       "  </thead>\n",
       "  <tbody>\n",
       "    <tr>\n",
       "      <th>left_only</th>\n",
       "      <td>0</td>\n",
       "      <td>0</td>\n",
       "      <td>0</td>\n",
       "      <td>0</td>\n",
       "      <td>0</td>\n",
       "      <td>0</td>\n",
       "      <td>0</td>\n",
       "      <td>0</td>\n",
       "      <td>0</td>\n",
       "      <td>0</td>\n",
       "      <td>...</td>\n",
       "      <td>0</td>\n",
       "      <td>0</td>\n",
       "      <td>0</td>\n",
       "      <td>0</td>\n",
       "      <td>0</td>\n",
       "      <td>0</td>\n",
       "      <td>0</td>\n",
       "      <td>0</td>\n",
       "      <td>0</td>\n",
       "      <td>0</td>\n",
       "    </tr>\n",
       "    <tr>\n",
       "      <th>right_only</th>\n",
       "      <td>0</td>\n",
       "      <td>0</td>\n",
       "      <td>0</td>\n",
       "      <td>0</td>\n",
       "      <td>0</td>\n",
       "      <td>0</td>\n",
       "      <td>0</td>\n",
       "      <td>0</td>\n",
       "      <td>0</td>\n",
       "      <td>0</td>\n",
       "      <td>...</td>\n",
       "      <td>0</td>\n",
       "      <td>0</td>\n",
       "      <td>0</td>\n",
       "      <td>0</td>\n",
       "      <td>0</td>\n",
       "      <td>0</td>\n",
       "      <td>0</td>\n",
       "      <td>0</td>\n",
       "      <td>0</td>\n",
       "      <td>0</td>\n",
       "    </tr>\n",
       "    <tr>\n",
       "      <th>both</th>\n",
       "      <td>4113</td>\n",
       "      <td>4113</td>\n",
       "      <td>4113</td>\n",
       "      <td>4113</td>\n",
       "      <td>4113</td>\n",
       "      <td>1708</td>\n",
       "      <td>4113</td>\n",
       "      <td>4113</td>\n",
       "      <td>4113</td>\n",
       "      <td>4113</td>\n",
       "      <td>...</td>\n",
       "      <td>4113</td>\n",
       "      <td>4113</td>\n",
       "      <td>4113</td>\n",
       "      <td>4113</td>\n",
       "      <td>4113</td>\n",
       "      <td>4113</td>\n",
       "      <td>4113</td>\n",
       "      <td>4113</td>\n",
       "      <td>4113</td>\n",
       "      <td>4113</td>\n",
       "    </tr>\n",
       "  </tbody>\n",
       "</table>\n",
       "<p>3 rows × 125 columns</p>\n",
       "</div>"
      ],
      "text/plain": [
       "            COUNTYNAME_x  COUNTYFIPS_x  VTDID  PCTNAME_x  PCTCODE_x  \\\n",
       "_merge                                                                \n",
       "left_only              0             0      0          0          0   \n",
       "right_only             0             0      0          0          0   \n",
       "both                4113          4113   4113       4113       4113   \n",
       "\n",
       "            SHORTLABEL_x  MCDNAME_x  MCDCODE_x  MCDFIPS_x  MCDGNIS_x  ...  \\\n",
       "_merge                                                                ...   \n",
       "left_only              0          0          0          0          0  ...   \n",
       "right_only             0          0          0          0          0  ...   \n",
       "both                1708       4113       4113       4113       4113  ...   \n",
       "\n",
       "            G18AUDOWRI_y  MNAUDTOTAL  G18ATGRWAR_y  G18ATGDELL_y  \\\n",
       "_merge                                                             \n",
       "left_only              0           0             0             0   \n",
       "right_only             0           0             0             0   \n",
       "both                4113        4113          4113          4113   \n",
       "\n",
       "            G18ATGMJOH_y  G18ATGOWRI_y  MNAGTOTAL  Shape_Leng  Shape_Area  \\\n",
       "_merge                                                                      \n",
       "left_only              0             0          0           0           0   \n",
       "right_only             0             0          0           0           0   \n",
       "both                4113          4113       4113        4113        4113   \n",
       "\n",
       "            geometry_y  \n",
       "_merge                  \n",
       "left_only            0  \n",
       "right_only           0  \n",
       "both              4113  \n",
       "\n",
       "[3 rows x 125 columns]"
      ]
     },
     "execution_count": 11,
     "metadata": {},
     "output_type": "execute_result"
    }
   ],
   "source": [
    "merged_df = vest_shp.merge(gdf, how = 'outer', on = 'VTDID', indicator = True)\n",
    "merged_df.groupby('_merge').count()"
   ]
  },
  {
   "cell_type": "markdown",
   "metadata": {},
   "source": [
    "# Validating Election Results"
   ]
  },
  {
   "cell_type": "markdown",
   "metadata": {},
   "source": [
    "## Statewide"
   ]
  },
  {
   "cell_type": "code",
   "execution_count": 12,
   "metadata": {},
   "outputs": [
    {
     "data": {
      "text/plain": [
       "Index(['COUNTYNAME', 'COUNTYFIPS', 'VTDID', 'PCTNAME', 'PCTCODE', 'SHORTLABEL',\n",
       "       'MCDNAME', 'MCDCODE', 'MCDFIPS', 'MCDGNIS', 'CONGDIST', 'MNSENDIST',\n",
       "       'MNLEGDIST', 'CTYCOMDIST', 'JUDDIST', 'G18USSRNEW', 'G18USSDKLO',\n",
       "       'G18USSMSCH', 'G18USSGOVE', 'G18USSOWRI', 'S18USSRHOU', 'S18USSDSMI',\n",
       "       'S18USSMWEL', 'S18USSUTRO', 'S18USSOWRI', 'G18GOVRJOH', 'G18GOVDWAL',\n",
       "       'G18GOVMWRI', 'G18GOVLWEL', 'G18GOVOWRI', 'G18SOSRHOW', 'G18SOSDSIM',\n",
       "       'G18SOSIDEN', 'G18SOSOWRI', 'G18AUDRMYH', 'G18AUDDBLA', 'G18AUDMFOR',\n",
       "       'G18AUDLDOC', 'G18AUDOWRI', 'G18ATGRWAR', 'G18ATGDELL', 'G18ATGMJOH',\n",
       "       'G18ATGOWRI', 'geometry'],\n",
       "      dtype='object')"
      ]
     },
     "execution_count": 12,
     "metadata": {},
     "output_type": "execute_result"
    }
   ],
   "source": [
    "vest_shp.columns"
   ]
  },
  {
   "cell_type": "code",
   "execution_count": 13,
   "metadata": {},
   "outputs": [
    {
     "name": "stdout",
     "output_type": "stream",
     "text": [
      "Printing differences below\n",
      "G18USSRNEW is equal \tVEST: 940437 \tRDH: 940437\n",
      "G18USSDKLO is equal \tVEST: 1566174 \tRDH: 1566174\n",
      "G18USSMSCH is equal \tVEST: 66236 \tRDH: 66236\n",
      "G18USSGOVE is equal \tVEST: 23101 \tRDH: 23101\n",
      "G18USSOWRI is equal \tVEST: 931 \tRDH: 931\n",
      "S18USSRHOU is equal \tVEST: 1095777 \tRDH: 1095777\n",
      "S18USSDSMI is equal \tVEST: 1370540 \tRDH: 1370540\n",
      "S18USSMWEL is equal \tVEST: 95614 \tRDH: 95614\n",
      "S18USSUTRO is equal \tVEST: 24324 \tRDH: 24324\n",
      "S18USSOWRI is equal \tVEST: 1101 \tRDH: 1101\n",
      "G18GOVRJOH is equal \tVEST: 1097705 \tRDH: 1097705\n",
      "G18GOVDWAL is equal \tVEST: 1393096 \tRDH: 1393096\n",
      "G18GOVMWRI is equal \tVEST: 68667 \tRDH: 68667\n",
      "G18GOVLWEL is equal \tVEST: 26735 \tRDH: 26735\n",
      "G18GOVOWRI is equal \tVEST: 1084 \tRDH: 1084\n",
      "G18SOSRHOW is equal \tVEST: 1109093 \tRDH: 1109093\n",
      "G18SOSDSIM is equal \tVEST: 1328502 \tRDH: 1328502\n",
      "G18SOSIDEN is equal \tVEST: 103610 \tRDH: 103610\n",
      "G18SOSOWRI is equal \tVEST: 1317 \tRDH: 1317\n",
      "G18AUDRMYH is equal \tVEST: 1095310 \tRDH: 1095310\n",
      "G18AUDDBLA is equal \tVEST: 1250524 \tRDH: 1250524\n",
      "G18AUDMFOR is equal \tVEST: 133913 \tRDH: 133913\n",
      "G18AUDLDOC is equal \tVEST: 53068 \tRDH: 53068\n",
      "G18AUDOWRI is equal \tVEST: 1125 \tRDH: 1125\n",
      "G18ATGRWAR is equal \tVEST: 1150459 \tRDH: 1150459\n",
      "G18ATGDELL is equal \tVEST: 1249407 \tRDH: 1249407\n",
      "G18ATGMJOH is equal \tVEST: 145748 \tRDH: 145748\n",
      "G18ATGOWRI is equal \tVEST: 6158 \tRDH: 6158\n",
      "\n",
      "All other races are equal\n"
     ]
    }
   ],
   "source": [
    "data_columns = ['G18USSRNEW', 'G18USSDKLO',\n",
    "       'G18USSMSCH', 'G18USSGOVE', 'G18USSOWRI', 'S18USSRHOU', 'S18USSDSMI',\n",
    "       'S18USSMWEL', 'S18USSUTRO', 'S18USSOWRI', 'G18GOVRJOH', 'G18GOVDWAL',\n",
    "       'G18GOVMWRI', 'G18GOVLWEL', 'G18GOVOWRI', 'G18SOSRHOW', 'G18SOSDSIM',\n",
    "       'G18SOSIDEN', 'G18SOSOWRI', 'G18AUDRMYH', 'G18AUDDBLA', 'G18AUDMFOR',\n",
    "       'G18AUDLDOC', 'G18AUDOWRI', 'G18ATGRWAR', 'G18ATGDELL', 'G18ATGMJOH',\n",
    "       'G18ATGOWRI']\n",
    "\n",
    "print(\"Printing differences below\")\n",
    "for race in data_columns:\n",
    "    if (sum(vest_shp[race])- gdf[race].sum() != 0):\n",
    "        print(race+\" has a difference of \"+str(sum(vest_shp[race])-gdf[race].sum())+\" votes\")\n",
    "        print(\"\\tVEST: \"+str(sum(vest_shp[race]))+\" votes\")\n",
    "        print(\"\\tSOURCES: \"+str(gdf[race].sum())+\" votes\")\n",
    "    else:\n",
    "        print(race + \" is equal\", \"\\tVEST: \" + str(sum(vest_shp[race])), \"\\tRDH: \" + str(gdf[race].sum()))\n",
    "print(\"\")\n",
    "print(\"All other races are equal\")\n"
   ]
  },
  {
   "cell_type": "markdown",
   "metadata": {},
   "source": [
    "## County-by-County Totals"
   ]
  },
  {
   "cell_type": "code",
   "execution_count": 14,
   "metadata": {},
   "outputs": [
    {
     "name": "stdout",
     "output_type": "stream",
     "text": [
      "Counties with differences printed below:\n",
      "\n",
      "All other races in all counties are equal\n"
     ]
    }
   ],
   "source": [
    "print(\"Counties with differences printed below:\")\n",
    "diff_counties=[]\n",
    "for i in data_columns:\n",
    "    diff = vest_shp.groupby([\"COUNTYNAME\"]).sum()[i]-gdf.groupby([\"COUNTYNAME\"]).sum()[i]\n",
    "    for val in diff[diff != 0].index.values.tolist():\n",
    "        if val not in diff_counties:\n",
    "            diff_counties.append(val)\n",
    "    if len(diff[diff != 0]!=0):\n",
    "        print(i)\n",
    "        print(diff[diff != 0].to_string(header=False))\n",
    "print(\"\")\n",
    "print(\"All other races in all counties are equal\")\n"
   ]
  },
  {
   "cell_type": "markdown",
   "metadata": {},
   "source": [
    "## Precinct-by-Precinct Totals"
   ]
  },
  {
   "cell_type": "code",
   "execution_count": 15,
   "metadata": {},
   "outputs": [
    {
     "name": "stdout",
     "output_type": "stream",
     "text": [
      "\n",
      "There are  4113  total rows\n",
      "0  of these rows have election result differences\n",
      "4113  of these rows are the same\n",
      "\n",
      "The max difference between any one shared column in a row is:  0\n",
      "There are  0 precinct results with a difference greater than 10\n",
      "[]\n"
     ]
    }
   ],
   "source": [
    "def validater_row (df, column_List):\n",
    "    matching_rows = 0\n",
    "    different_rows = 0\n",
    "    diff_list=[]\n",
    "    diff_values = []\n",
    "    max_diff = 0\n",
    "    for j in range(0,len(df.index)):\n",
    "        same = True\n",
    "        for i in column_List:\n",
    "            left_Data = i + \"_x\"\n",
    "            right_Data = i + \"_y\"\n",
    "            diff = abs(df.iloc[j][left_Data]-df.iloc[j][right_Data])\n",
    "            if(diff >0):\n",
    "                if(diff>0):\n",
    "                    print(i, \"{:.>72}\".format(df.iloc[j][\"VTDID\"]), \"(V)\",\"{:.>5}\".format(int(df.iloc[j][left_Data])),\" (S){:.>5}\".format(int(df.iloc[j][right_Data])),\"(D):{:>5}\".format(int(df.iloc[j][right_Data])-int(df.iloc[j][left_Data])))           \n",
    "                #print(df.iloc[j]['countypct'])\n",
    "                \n",
    "                diff_values.append(abs(diff))\n",
    "                same = False\n",
    "                if(np.isnan(diff)):\n",
    "                    print(\"NaN value at diff is: \", df.iloc[j][\"VTDID\"])\n",
    "                    print(df.iloc[j][left_Data])\n",
    "                    print(df.iloc[j][right_Data])\n",
    "                if (diff>max_diff):\n",
    "                    max_diff = diff\n",
    "                    #print(\"New max diff is: \", str(max_diff))\n",
    "                    #print(df.iloc[j]['cty_pct'])\n",
    "        if(same != True):\n",
    "            different_rows +=1\n",
    "            diff_list.append(df.iloc[j][\"VTDID\"])\n",
    "        else:\n",
    "            matching_rows +=1\n",
    "    print(\"\")\n",
    "    print(\"There are \", len(df.index),\" total rows\")\n",
    "    print(different_rows,\" of these rows have election result differences\")\n",
    "    print(matching_rows,\" of these rows are the same\")\n",
    "    print(\"\")\n",
    "    print(\"The max difference between any one shared column in a row is: \", max_diff)\n",
    "    if(len(diff_values)!=0):\n",
    "        print(\"The average difference is: \", str(sum(diff_values)/len(diff_values)))\n",
    "    count_big_diff = len([i for i in diff_values if i > 10])\n",
    "    print(\"There are \", str(count_big_diff), \"precinct results with a difference greater than 10\")\n",
    "    diff_list.sort()\n",
    "    print(diff_list)\n",
    "    \n",
    "validater_row(merged_df,data_columns)\n"
   ]
  }
 ],
 "metadata": {
  "kernelspec": {
   "display_name": "Python 3",
   "language": "python",
   "name": "python3"
  },
  "language_info": {
   "codemirror_mode": {
    "name": "ipython",
    "version": 3
   },
   "file_extension": ".py",
   "mimetype": "text/x-python",
   "name": "python",
   "nbconvert_exporter": "python",
   "pygments_lexer": "ipython3",
   "version": "3.8.3"
  }
 },
 "nbformat": 4,
 "nbformat_minor": 4
}
