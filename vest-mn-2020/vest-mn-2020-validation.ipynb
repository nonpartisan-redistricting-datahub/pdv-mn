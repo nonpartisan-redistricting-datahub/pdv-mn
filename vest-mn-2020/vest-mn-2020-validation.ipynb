{
 "cells": [
  {
   "cell_type": "code",
   "execution_count": 2,
   "metadata": {},
   "outputs": [],
   "source": [
    "import pandas as pd\n",
    "import sys\n",
    "import numpy as np\n",
    "import geopandas as gp\n",
    "import matplotlib.pyplot as plt"
   ]
  },
  {
   "cell_type": "markdown",
   "metadata": {},
   "source": [
    "# Precinct Shapefile"
   ]
  },
  {
   "cell_type": "markdown",
   "metadata": {},
   "source": [
    "## VEST's Documentation File"
   ]
  },
  {
   "cell_type": "markdown",
   "metadata": {},
   "source": [
    "Election results from Minnesota Secretary of State (https://www.sos.state.mn.us/elections-voting/election-results/2020/2020-general-election-results/). Precinct shapefile from Minnesota Geospatial Commons (https://gisdata.mn.gov/dataset/bdry-votingdistricts).\n",
    "\n",
    "- G20PREDBID - Joseph R. Biden (Democratic-Farmer-Labor Party)\n",
    "- G20PRERTRU - Donald J. Trump (Republican Party)\n",
    "- G20PRELJOR - Jo Jorgensen (Libertarian Party)\n",
    "- G20PREGHAW - Howie Hawkins (Green Party)\n",
    "- G20PREAFUE - Roque \"Rocky\" De La Fuente (Independence-Alliance Party)\n",
    "- G20PREPLAR - Gloria La Riva (Socialism and Liberation Party)\n",
    "- G20PRESKEN - Alyson Kennedy (Socialist Workers Party)\n",
    "- G20PREIWES - Kanye West (Independent)\n",
    "- G20PREIPIE - Brock Pierce (Independent)\n",
    "- G20PREOWRI - Write-in Votes\n",
    "\n",
    "\n",
    "- G20USSDSMI - Tina Smith (Democratic-Farmer-Labor Party)\n",
    "- G20USSRLEW - Jason Lewis (Republican Party)\n",
    "- G20USSMOCO - Kevin O'Connor (Legal Marijuana Now Party)\n",
    "- G20USSCSTE - Oliver Steinberg (Grassroots - Legalize Cannabis Party)\n",
    "- G20USSOWRI - Write-in Votes\n"
   ]
  },
  {
   "cell_type": "markdown",
   "metadata": {},
   "source": [
    "## Load VEST's Final File"
   ]
  },
  {
   "cell_type": "code",
   "execution_count": 3,
   "metadata": {},
   "outputs": [],
   "source": [
    "vest_shp = gp.read_file(\"./raw-from-source/VEST/mn_2020/mn_2020.shp\")"
   ]
  },
  {
   "cell_type": "code",
   "execution_count": 4,
   "metadata": {},
   "outputs": [
    {
     "data": {
      "text/plain": [
       "(4110, 20)"
      ]
     },
     "execution_count": 4,
     "metadata": {},
     "output_type": "execute_result"
    }
   ],
   "source": [
    "vest_shp.shape"
   ]
  },
  {
   "cell_type": "code",
   "execution_count": 5,
   "metadata": {},
   "outputs": [
    {
     "data": {
      "text/html": [
       "<div>\n",
       "<style scoped>\n",
       "    .dataframe tbody tr th:only-of-type {\n",
       "        vertical-align: middle;\n",
       "    }\n",
       "\n",
       "    .dataframe tbody tr th {\n",
       "        vertical-align: top;\n",
       "    }\n",
       "\n",
       "    .dataframe thead th {\n",
       "        text-align: right;\n",
       "    }\n",
       "</style>\n",
       "<table border=\"1\" class=\"dataframe\">\n",
       "  <thead>\n",
       "    <tr style=\"text-align: right;\">\n",
       "      <th></th>\n",
       "      <th>VTDID</th>\n",
       "      <th>PCTNAME</th>\n",
       "      <th>COUNTYNAME</th>\n",
       "      <th>COUNTYFIPS</th>\n",
       "      <th>G20PREDBID</th>\n",
       "      <th>G20PRERTRU</th>\n",
       "      <th>G20PRELJOR</th>\n",
       "      <th>G20PREGHAW</th>\n",
       "      <th>G20PREAFUE</th>\n",
       "      <th>G20PREPLAR</th>\n",
       "      <th>G20PRESKEN</th>\n",
       "      <th>G20PREIWES</th>\n",
       "      <th>G20PREIPIE</th>\n",
       "      <th>G20PREOWRI</th>\n",
       "      <th>G20USSDSMI</th>\n",
       "      <th>G20USSRLEW</th>\n",
       "      <th>G20USSMOCO</th>\n",
       "      <th>G20USSCSTE</th>\n",
       "      <th>G20USSOWRI</th>\n",
       "      <th>geometry</th>\n",
       "    </tr>\n",
       "  </thead>\n",
       "  <tbody>\n",
       "    <tr>\n",
       "      <th>0</th>\n",
       "      <td>271730045</td>\n",
       "      <td>Friendship Twp</td>\n",
       "      <td>Yellow Medicine</td>\n",
       "      <td>173</td>\n",
       "      <td>26</td>\n",
       "      <td>96</td>\n",
       "      <td>1</td>\n",
       "      <td>2</td>\n",
       "      <td>1</td>\n",
       "      <td>0</td>\n",
       "      <td>0</td>\n",
       "      <td>0</td>\n",
       "      <td>1</td>\n",
       "      <td>0</td>\n",
       "      <td>27</td>\n",
       "      <td>95</td>\n",
       "      <td>4</td>\n",
       "      <td>2</td>\n",
       "      <td>0</td>\n",
       "      <td>POLYGON ((-95.72666 44.80511, -95.72658 44.790...</td>\n",
       "    </tr>\n",
       "  </tbody>\n",
       "</table>\n",
       "</div>"
      ],
      "text/plain": [
       "       VTDID         PCTNAME       COUNTYNAME COUNTYFIPS  G20PREDBID  \\\n",
       "0  271730045  Friendship Twp  Yellow Medicine        173          26   \n",
       "\n",
       "   G20PRERTRU  G20PRELJOR  G20PREGHAW  G20PREAFUE  G20PREPLAR  G20PRESKEN  \\\n",
       "0          96           1           2           1           0           0   \n",
       "\n",
       "   G20PREIWES  G20PREIPIE  G20PREOWRI  G20USSDSMI  G20USSRLEW  G20USSMOCO  \\\n",
       "0           0           1           0          27          95           4   \n",
       "\n",
       "   G20USSCSTE  G20USSOWRI                                           geometry  \n",
       "0           2           0  POLYGON ((-95.72666 44.80511, -95.72658 44.790...  "
      ]
     },
     "execution_count": 5,
     "metadata": {},
     "output_type": "execute_result"
    }
   ],
   "source": [
    "vest_shp.head(1)"
   ]
  },
  {
   "cell_type": "code",
   "execution_count": 6,
   "metadata": {},
   "outputs": [
    {
     "data": {
      "text/plain": [
       "<matplotlib.axes._subplots.AxesSubplot at 0x7f97a1ac2e80>"
      ]
     },
     "execution_count": 6,
     "metadata": {},
     "output_type": "execute_result"
    },
    {
     "data": {
      "image/png": "[encoded data removed]",
      "text/plain": [
       "<Figure size 432x288 with 1 Axes>"
      ]
     },
     "metadata": {
      "needs_background": "light"
     },
     "output_type": "display_data"
    }
   ],
   "source": [
    "vest_shp.boundary.plot()"
   ]
  },
  {
   "cell_type": "markdown",
   "metadata": {},
   "source": [
    "# Loading Election Results"
   ]
  },
  {
   "cell_type": "code",
   "execution_count": 13,
   "metadata": {},
   "outputs": [],
   "source": [
    "election_results = pd.read_excel('./raw-from-source/SOS/2020-general-federal-state-results-by-precinct-official.xlsx', \n",
    "                                sheet_name = \"Precinct-Results\")\n",
    "election_results = election_results[['VTDID','PCTNAME','PCTCODE','MCDNAME','COUNTYNAME','COUNTYCODE','TOTVOTING', \n",
    "                                         'USPRSR','USPRSDFL','USPRSIA','USPRSGP','USPRSINDKW','USPRSINDBP','USPRSSLP',\n",
    "                                         'USPRSSWP','USPRSLIB','USPRSWI','USPRSTOTAL','USSENLMN','USSENGLC','USSENR',\n",
    "                                         'USSENDFL','USSENWI','USSENTOTAL']]"
   ]
  },
  {
   "cell_type": "code",
   "execution_count": 15,
   "metadata": {},
   "outputs": [
    {
     "data": {
      "text/html": [
       "<div>\n",
       "<style scoped>\n",
       "    .dataframe tbody tr th:only-of-type {\n",
       "        vertical-align: middle;\n",
       "    }\n",
       "\n",
       "    .dataframe tbody tr th {\n",
       "        vertical-align: top;\n",
       "    }\n",
       "\n",
       "    .dataframe thead th {\n",
       "        text-align: right;\n",
       "    }\n",
       "</style>\n",
       "<table border=\"1\" class=\"dataframe\">\n",
       "  <thead>\n",
       "    <tr style=\"text-align: right;\">\n",
       "      <th></th>\n",
       "      <th>VTDID</th>\n",
       "      <th>PCTNAME</th>\n",
       "      <th>PCTCODE</th>\n",
       "      <th>MCDNAME</th>\n",
       "      <th>COUNTYNAME</th>\n",
       "      <th>COUNTYCODE</th>\n",
       "      <th>TOTVOTING</th>\n",
       "      <th>G20PRERTRU</th>\n",
       "      <th>G20PREDBID</th>\n",
       "      <th>G20PREAFUE</th>\n",
       "      <th>...</th>\n",
       "      <th>G20PRESKEN</th>\n",
       "      <th>G20PRELJOR</th>\n",
       "      <th>G20PREOWRI</th>\n",
       "      <th>USPRSTOTAL</th>\n",
       "      <th>G20USSMOCO</th>\n",
       "      <th>G20USSCSTE</th>\n",
       "      <th>G20USSRLEW</th>\n",
       "      <th>G20USSDSMI</th>\n",
       "      <th>G20USSOWRI</th>\n",
       "      <th>USSENTOTAL</th>\n",
       "    </tr>\n",
       "  </thead>\n",
       "  <tbody>\n",
       "    <tr>\n",
       "      <th>0</th>\n",
       "      <td>270010005</td>\n",
       "      <td>AITKIN</td>\n",
       "      <td>5.0</td>\n",
       "      <td>Aitkin</td>\n",
       "      <td>Aitkin</td>\n",
       "      <td>1.0</td>\n",
       "      <td>1098.0</td>\n",
       "      <td>626.0</td>\n",
       "      <td>446.0</td>\n",
       "      <td>3.0</td>\n",
       "      <td>...</td>\n",
       "      <td>0.0</td>\n",
       "      <td>9.0</td>\n",
       "      <td>0.0</td>\n",
       "      <td>1091.0</td>\n",
       "      <td>79.0</td>\n",
       "      <td>22.0</td>\n",
       "      <td>545.0</td>\n",
       "      <td>421.0</td>\n",
       "      <td>0.0</td>\n",
       "      <td>1067.0</td>\n",
       "    </tr>\n",
       "    <tr>\n",
       "      <th>1</th>\n",
       "      <td>270010010</td>\n",
       "      <td>AITKIN TWP</td>\n",
       "      <td>10.0</td>\n",
       "      <td>Aitkin Twp</td>\n",
       "      <td>Aitkin</td>\n",
       "      <td>1.0</td>\n",
       "      <td>577.0</td>\n",
       "      <td>379.0</td>\n",
       "      <td>187.0</td>\n",
       "      <td>1.0</td>\n",
       "      <td>...</td>\n",
       "      <td>2.0</td>\n",
       "      <td>3.0</td>\n",
       "      <td>1.0</td>\n",
       "      <td>576.0</td>\n",
       "      <td>27.0</td>\n",
       "      <td>5.0</td>\n",
       "      <td>363.0</td>\n",
       "      <td>171.0</td>\n",
       "      <td>0.0</td>\n",
       "      <td>566.0</td>\n",
       "    </tr>\n",
       "    <tr>\n",
       "      <th>2</th>\n",
       "      <td>270010015</td>\n",
       "      <td>BALL BLUFF TWP</td>\n",
       "      <td>15.0</td>\n",
       "      <td>Ball Bluff Twp</td>\n",
       "      <td>Aitkin</td>\n",
       "      <td>1.0</td>\n",
       "      <td>185.0</td>\n",
       "      <td>107.0</td>\n",
       "      <td>75.0</td>\n",
       "      <td>0.0</td>\n",
       "      <td>...</td>\n",
       "      <td>0.0</td>\n",
       "      <td>3.0</td>\n",
       "      <td>0.0</td>\n",
       "      <td>185.0</td>\n",
       "      <td>6.0</td>\n",
       "      <td>1.0</td>\n",
       "      <td>95.0</td>\n",
       "      <td>79.0</td>\n",
       "      <td>0.0</td>\n",
       "      <td>181.0</td>\n",
       "    </tr>\n",
       "    <tr>\n",
       "      <th>3</th>\n",
       "      <td>270010020</td>\n",
       "      <td>BALSAM TWP</td>\n",
       "      <td>20.0</td>\n",
       "      <td>Balsam Twp</td>\n",
       "      <td>Aitkin</td>\n",
       "      <td>1.0</td>\n",
       "      <td>24.0</td>\n",
       "      <td>12.0</td>\n",
       "      <td>11.0</td>\n",
       "      <td>0.0</td>\n",
       "      <td>...</td>\n",
       "      <td>0.0</td>\n",
       "      <td>0.0</td>\n",
       "      <td>0.0</td>\n",
       "      <td>24.0</td>\n",
       "      <td>0.0</td>\n",
       "      <td>0.0</td>\n",
       "      <td>13.0</td>\n",
       "      <td>11.0</td>\n",
       "      <td>0.0</td>\n",
       "      <td>24.0</td>\n",
       "    </tr>\n",
       "    <tr>\n",
       "      <th>4</th>\n",
       "      <td>270010025</td>\n",
       "      <td>BEAVER TWP</td>\n",
       "      <td>25.0</td>\n",
       "      <td>Beaver Twp</td>\n",
       "      <td>Aitkin</td>\n",
       "      <td>1.0</td>\n",
       "      <td>38.0</td>\n",
       "      <td>17.0</td>\n",
       "      <td>20.0</td>\n",
       "      <td>0.0</td>\n",
       "      <td>...</td>\n",
       "      <td>0.0</td>\n",
       "      <td>0.0</td>\n",
       "      <td>1.0</td>\n",
       "      <td>38.0</td>\n",
       "      <td>0.0</td>\n",
       "      <td>0.0</td>\n",
       "      <td>16.0</td>\n",
       "      <td>20.0</td>\n",
       "      <td>0.0</td>\n",
       "      <td>36.0</td>\n",
       "    </tr>\n",
       "  </tbody>\n",
       "</table>\n",
       "<p>5 rows × 24 columns</p>\n",
       "</div>"
      ],
      "text/plain": [
       "       VTDID         PCTNAME  PCTCODE         MCDNAME COUNTYNAME  COUNTYCODE  \\\n",
       "0  270010005          AITKIN      5.0          Aitkin     Aitkin         1.0   \n",
       "1  270010010      AITKIN TWP     10.0      Aitkin Twp     Aitkin         1.0   \n",
       "2  270010015  BALL BLUFF TWP     15.0  Ball Bluff Twp     Aitkin         1.0   \n",
       "3  270010020      BALSAM TWP     20.0      Balsam Twp     Aitkin         1.0   \n",
       "4  270010025      BEAVER TWP     25.0      Beaver Twp     Aitkin         1.0   \n",
       "\n",
       "   TOTVOTING  G20PRERTRU  G20PREDBID  G20PREAFUE  ...  G20PRESKEN  G20PRELJOR  \\\n",
       "0     1098.0       626.0       446.0         3.0  ...         0.0         9.0   \n",
       "1      577.0       379.0       187.0         1.0  ...         2.0         3.0   \n",
       "2      185.0       107.0        75.0         0.0  ...         0.0         3.0   \n",
       "3       24.0        12.0        11.0         0.0  ...         0.0         0.0   \n",
       "4       38.0        17.0        20.0         0.0  ...         0.0         0.0   \n",
       "\n",
       "   G20PREOWRI  USPRSTOTAL  G20USSMOCO  G20USSCSTE  G20USSRLEW  G20USSDSMI  \\\n",
       "0         0.0      1091.0        79.0        22.0       545.0       421.0   \n",
       "1         1.0       576.0        27.0         5.0       363.0       171.0   \n",
       "2         0.0       185.0         6.0         1.0        95.0        79.0   \n",
       "3         0.0        24.0         0.0         0.0        13.0        11.0   \n",
       "4         1.0        38.0         0.0         0.0        16.0        20.0   \n",
       "\n",
       "   G20USSOWRI  USSENTOTAL  \n",
       "0         0.0      1067.0  \n",
       "1         0.0       566.0  \n",
       "2         0.0       181.0  \n",
       "3         0.0        24.0  \n",
       "4         0.0        36.0  \n",
       "\n",
       "[5 rows x 24 columns]"
      ]
     },
     "execution_count": 15,
     "metadata": {},
     "output_type": "execute_result"
    }
   ],
   "source": [
    "election_results.columns = ['VTDID','PCTNAME','PCTCODE','MCDNAME','COUNTYNAME','COUNTYCODE','TOTVOTING', \n",
    "                                         'G20PRERTRU','G20PREDBID','G20PREAFUE','G20PREGHAW','G20PREIWES','G20PREIPIE','G20PREPLAR',\n",
    "                                         'G20PRESKEN','G20PRELJOR','G20PREOWRI','USPRSTOTAL',\n",
    "                                         'G20USSMOCO','G20USSCSTE','G20USSRLEW','G20USSDSMI','G20USSOWRI','USSENTOTAL']\n",
    "election_results.head()"
   ]
  },
  {
   "cell_type": "markdown",
   "metadata": {},
   "source": [
    "## Add County Fips Code"
   ]
  },
  {
   "cell_type": "code",
   "execution_count": 16,
   "metadata": {},
   "outputs": [],
   "source": [
    "#Load in the nationwide FIPS file\n",
    "fips_file = pd.read_csv(\"./raw-from-source/FIPS/US_FIPS_Codes.csv\")\n",
    "fips_file = fips_file[fips_file[\"State\"]==\"Minnesota\"]\n",
    "fips_file[\"FIPS County\"]=fips_file[\"FIPS County\"].astype(str)\n",
    "\n",
    "#Make the FIPS three digits\n",
    "fips_file[\"FIPS County\"]=fips_file[\"FIPS County\"].str.zfill(3)\n",
    "\n",
    "#Create the dictionary\n",
    "fips_dict = dict(zip(fips_file[\"County Name\"],fips_file[\"FIPS County\"]))"
   ]
  },
  {
   "cell_type": "code",
   "execution_count": 26,
   "metadata": {},
   "outputs": [],
   "source": [
    "election_results['COUNTYFP'] = election_results['COUNTYNAME'].map(fips_dict)"
   ]
  },
  {
   "cell_type": "code",
   "execution_count": 37,
   "metadata": {},
   "outputs": [
    {
     "data": {
      "text/html": [
       "<div>\n",
       "<style scoped>\n",
       "    .dataframe tbody tr th:only-of-type {\n",
       "        vertical-align: middle;\n",
       "    }\n",
       "\n",
       "    .dataframe tbody tr th {\n",
       "        vertical-align: top;\n",
       "    }\n",
       "\n",
       "    .dataframe thead th {\n",
       "        text-align: right;\n",
       "    }\n",
       "</style>\n",
       "<table border=\"1\" class=\"dataframe\">\n",
       "  <thead>\n",
       "    <tr style=\"text-align: right;\">\n",
       "      <th></th>\n",
       "      <th>COUNTYNAME</th>\n",
       "      <th>COUNTYFP</th>\n",
       "    </tr>\n",
       "  </thead>\n",
       "  <tbody>\n",
       "    <tr>\n",
       "      <th>1978</th>\n",
       "      <td>Lake Of The Woods</td>\n",
       "      <td>NaN</td>\n",
       "    </tr>\n",
       "    <tr>\n",
       "      <th>3251</th>\n",
       "      <td>St. Louis</td>\n",
       "      <td>NaN</td>\n",
       "    </tr>\n",
       "    <tr>\n",
       "      <th>4110</th>\n",
       "      <td>NaN</td>\n",
       "      <td>NaN</td>\n",
       "    </tr>\n",
       "  </tbody>\n",
       "</table>\n",
       "</div>"
      ],
      "text/plain": [
       "             COUNTYNAME COUNTYFP\n",
       "1978  Lake Of The Woods      NaN\n",
       "3251          St. Louis      NaN\n",
       "4110                NaN      NaN"
      ]
     },
     "execution_count": 37,
     "metadata": {},
     "output_type": "execute_result"
    }
   ],
   "source": [
    "election_results[election_results['COUNTYFP'].isnull()][['COUNTYNAME','COUNTYFP']].drop_duplicates()"
   ]
  },
  {
   "cell_type": "code",
   "execution_count": 39,
   "metadata": {},
   "outputs": [
    {
     "data": {
      "text/html": [
       "<div>\n",
       "<style scoped>\n",
       "    .dataframe tbody tr th:only-of-type {\n",
       "        vertical-align: middle;\n",
       "    }\n",
       "\n",
       "    .dataframe tbody tr th {\n",
       "        vertical-align: top;\n",
       "    }\n",
       "\n",
       "    .dataframe thead th {\n",
       "        text-align: right;\n",
       "    }\n",
       "</style>\n",
       "<table border=\"1\" class=\"dataframe\">\n",
       "  <thead>\n",
       "    <tr style=\"text-align: right;\">\n",
       "      <th></th>\n",
       "      <th>COUNTYNAME</th>\n",
       "      <th>COUNTYFP</th>\n",
       "    </tr>\n",
       "  </thead>\n",
       "  <tbody>\n",
       "    <tr>\n",
       "      <th>4110</th>\n",
       "      <td>NaN</td>\n",
       "      <td>NaN</td>\n",
       "    </tr>\n",
       "  </tbody>\n",
       "</table>\n",
       "</div>"
      ],
      "text/plain": [
       "     COUNTYNAME COUNTYFP\n",
       "4110        NaN      NaN"
      ]
     },
     "execution_count": 39,
     "metadata": {},
     "output_type": "execute_result"
    }
   ],
   "source": [
    "fips_dict['Lake Of The Woods'] = '077'\n",
    "fips_dict['St. Louis'] = '137'\n",
    "election_results['COUNTYFP'] = election_results['COUNTYNAME'].map(fips_dict)\n",
    "election_results[election_results['COUNTYFP'].isnull()][['COUNTYNAME','COUNTYFP']].drop_duplicates()"
   ]
  },
  {
   "cell_type": "markdown",
   "metadata": {},
   "source": [
    "# Join Election Results"
   ]
  },
  {
   "cell_type": "code",
   "execution_count": 40,
   "metadata": {},
   "outputs": [
    {
     "name": "stdout",
     "output_type": "stream",
     "text": [
      "(4110, 20)\n",
      "(4111, 25)\n"
     ]
    }
   ],
   "source": [
    "print(vest_shp.shape)\n",
    "print(election_results.shape)"
   ]
  },
  {
   "cell_type": "code",
   "execution_count": 41,
   "metadata": {},
   "outputs": [
    {
     "data": {
      "text/html": [
       "<div>\n",
       "<style scoped>\n",
       "    .dataframe tbody tr th:only-of-type {\n",
       "        vertical-align: middle;\n",
       "    }\n",
       "\n",
       "    .dataframe tbody tr th {\n",
       "        vertical-align: top;\n",
       "    }\n",
       "\n",
       "    .dataframe thead th {\n",
       "        text-align: right;\n",
       "    }\n",
       "</style>\n",
       "<table border=\"1\" class=\"dataframe\">\n",
       "  <thead>\n",
       "    <tr style=\"text-align: right;\">\n",
       "      <th></th>\n",
       "      <th>VTDID</th>\n",
       "      <th>PCTNAME_x</th>\n",
       "      <th>COUNTYNAME_x</th>\n",
       "      <th>COUNTYFIPS</th>\n",
       "      <th>G20PREDBID_x</th>\n",
       "      <th>G20PRERTRU_x</th>\n",
       "      <th>G20PRELJOR_x</th>\n",
       "      <th>G20PREGHAW_x</th>\n",
       "      <th>G20PREAFUE_x</th>\n",
       "      <th>G20PREPLAR_x</th>\n",
       "      <th>...</th>\n",
       "      <th>G20PRELJOR_y</th>\n",
       "      <th>G20PREOWRI_y</th>\n",
       "      <th>USPRSTOTAL</th>\n",
       "      <th>G20USSMOCO_y</th>\n",
       "      <th>G20USSCSTE_y</th>\n",
       "      <th>G20USSRLEW_y</th>\n",
       "      <th>G20USSDSMI_y</th>\n",
       "      <th>G20USSOWRI_y</th>\n",
       "      <th>USSENTOTAL</th>\n",
       "      <th>COUNTYFP</th>\n",
       "    </tr>\n",
       "    <tr>\n",
       "      <th>_merge</th>\n",
       "      <th></th>\n",
       "      <th></th>\n",
       "      <th></th>\n",
       "      <th></th>\n",
       "      <th></th>\n",
       "      <th></th>\n",
       "      <th></th>\n",
       "      <th></th>\n",
       "      <th></th>\n",
       "      <th></th>\n",
       "      <th></th>\n",
       "      <th></th>\n",
       "      <th></th>\n",
       "      <th></th>\n",
       "      <th></th>\n",
       "      <th></th>\n",
       "      <th></th>\n",
       "      <th></th>\n",
       "      <th></th>\n",
       "      <th></th>\n",
       "      <th></th>\n",
       "    </tr>\n",
       "  </thead>\n",
       "  <tbody>\n",
       "    <tr>\n",
       "      <th>left_only</th>\n",
       "      <td>0</td>\n",
       "      <td>0</td>\n",
       "      <td>0</td>\n",
       "      <td>0</td>\n",
       "      <td>0</td>\n",
       "      <td>0</td>\n",
       "      <td>0</td>\n",
       "      <td>0</td>\n",
       "      <td>0</td>\n",
       "      <td>0</td>\n",
       "      <td>...</td>\n",
       "      <td>0</td>\n",
       "      <td>0</td>\n",
       "      <td>0</td>\n",
       "      <td>0</td>\n",
       "      <td>0</td>\n",
       "      <td>0</td>\n",
       "      <td>0</td>\n",
       "      <td>0</td>\n",
       "      <td>0</td>\n",
       "      <td>0</td>\n",
       "    </tr>\n",
       "    <tr>\n",
       "      <th>right_only</th>\n",
       "      <td>1</td>\n",
       "      <td>0</td>\n",
       "      <td>0</td>\n",
       "      <td>0</td>\n",
       "      <td>0</td>\n",
       "      <td>0</td>\n",
       "      <td>0</td>\n",
       "      <td>0</td>\n",
       "      <td>0</td>\n",
       "      <td>0</td>\n",
       "      <td>...</td>\n",
       "      <td>0</td>\n",
       "      <td>0</td>\n",
       "      <td>0</td>\n",
       "      <td>0</td>\n",
       "      <td>0</td>\n",
       "      <td>0</td>\n",
       "      <td>0</td>\n",
       "      <td>0</td>\n",
       "      <td>0</td>\n",
       "      <td>0</td>\n",
       "    </tr>\n",
       "    <tr>\n",
       "      <th>both</th>\n",
       "      <td>4110</td>\n",
       "      <td>4110</td>\n",
       "      <td>4110</td>\n",
       "      <td>4110</td>\n",
       "      <td>4110</td>\n",
       "      <td>4110</td>\n",
       "      <td>4110</td>\n",
       "      <td>4110</td>\n",
       "      <td>4110</td>\n",
       "      <td>4110</td>\n",
       "      <td>...</td>\n",
       "      <td>4110</td>\n",
       "      <td>4110</td>\n",
       "      <td>4110</td>\n",
       "      <td>4110</td>\n",
       "      <td>4110</td>\n",
       "      <td>4110</td>\n",
       "      <td>4110</td>\n",
       "      <td>4110</td>\n",
       "      <td>4110</td>\n",
       "      <td>4110</td>\n",
       "    </tr>\n",
       "  </tbody>\n",
       "</table>\n",
       "<p>3 rows × 44 columns</p>\n",
       "</div>"
      ],
      "text/plain": [
       "            VTDID  PCTNAME_x  COUNTYNAME_x  COUNTYFIPS  G20PREDBID_x  \\\n",
       "_merge                                                                 \n",
       "left_only       0          0             0           0             0   \n",
       "right_only      1          0             0           0             0   \n",
       "both         4110       4110          4110        4110          4110   \n",
       "\n",
       "            G20PRERTRU_x  G20PRELJOR_x  G20PREGHAW_x  G20PREAFUE_x  \\\n",
       "_merge                                                               \n",
       "left_only              0             0             0             0   \n",
       "right_only             0             0             0             0   \n",
       "both                4110          4110          4110          4110   \n",
       "\n",
       "            G20PREPLAR_x  ...  G20PRELJOR_y  G20PREOWRI_y  USPRSTOTAL  \\\n",
       "_merge                    ...                                           \n",
       "left_only              0  ...             0             0           0   \n",
       "right_only             0  ...             0             0           0   \n",
       "both                4110  ...          4110          4110        4110   \n",
       "\n",
       "            G20USSMOCO_y  G20USSCSTE_y  G20USSRLEW_y  G20USSDSMI_y  \\\n",
       "_merge                                                               \n",
       "left_only              0             0             0             0   \n",
       "right_only             0             0             0             0   \n",
       "both                4110          4110          4110          4110   \n",
       "\n",
       "            G20USSOWRI_y  USSENTOTAL  COUNTYFP  \n",
       "_merge                                          \n",
       "left_only              0           0         0  \n",
       "right_only             0           0         0  \n",
       "both                4110        4110      4110  \n",
       "\n",
       "[3 rows x 44 columns]"
      ]
     },
     "execution_count": 41,
     "metadata": {},
     "output_type": "execute_result"
    }
   ],
   "source": [
    "merged_df = vest_shp.merge(election_results, how = 'outer', on = 'VTDID', indicator = True)\n",
    "merged_df.groupby('_merge').count()"
   ]
  },
  {
   "cell_type": "markdown",
   "metadata": {},
   "source": [
    "# Validating Election Results"
   ]
  },
  {
   "cell_type": "markdown",
   "metadata": {},
   "source": [
    "## Statewide"
   ]
  },
  {
   "cell_type": "code",
   "execution_count": 43,
   "metadata": {},
   "outputs": [
    {
     "data": {
      "text/plain": [
       "Index(['VTDID', 'PCTNAME', 'COUNTYNAME', 'COUNTYFIPS', 'G20PREDBID',\n",
       "       'G20PRERTRU', 'G20PRELJOR', 'G20PREGHAW', 'G20PREAFUE', 'G20PREPLAR',\n",
       "       'G20PRESKEN', 'G20PREIWES', 'G20PREIPIE', 'G20PREOWRI', 'G20USSDSMI',\n",
       "       'G20USSRLEW', 'G20USSMOCO', 'G20USSCSTE', 'G20USSOWRI', 'geometry'],\n",
       "      dtype='object')"
      ]
     },
     "execution_count": 43,
     "metadata": {},
     "output_type": "execute_result"
    }
   ],
   "source": [
    "vest_shp.columns"
   ]
  },
  {
   "cell_type": "code",
   "execution_count": 44,
   "metadata": {},
   "outputs": [
    {
     "name": "stdout",
     "output_type": "stream",
     "text": [
      "Printing differences below\n",
      "G20PREDBID is equal \tVEST: 1717077 \tRDH: 1717077.0\n",
      "G20PRERTRU is equal \tVEST: 1484065 \tRDH: 1484065.0\n",
      "G20PRELJOR is equal \tVEST: 34976 \tRDH: 34976.0\n",
      "G20PREGHAW is equal \tVEST: 10033 \tRDH: 10033.0\n",
      "G20PREAFUE is equal \tVEST: 5611 \tRDH: 5611.0\n",
      "G20PREPLAR is equal \tVEST: 1210 \tRDH: 1210.0\n",
      "G20PRESKEN is equal \tVEST: 643 \tRDH: 643.0\n",
      "G20PREIWES is equal \tVEST: 7940 \tRDH: 7940.0\n",
      "G20PREIPIE is equal \tVEST: 5651 \tRDH: 5651.0\n",
      "G20PREOWRI is equal \tVEST: 9965 \tRDH: 9965.0\n",
      "G20USSDSMI is equal \tVEST: 1566522 \tRDH: 1566522.0\n",
      "G20USSRLEW is equal \tVEST: 1398145 \tRDH: 1398145.0\n",
      "G20USSMOCO is equal \tVEST: 190154 \tRDH: 190154.0\n",
      "G20USSCSTE is equal \tVEST: 57174 \tRDH: 57174.0\n",
      "G20USSOWRI is equal \tVEST: 2261 \tRDH: 2261.0\n",
      "\n",
      "All other races are equal\n"
     ]
    }
   ],
   "source": [
    "data_columns = ['G20PREDBID',\n",
    "       'G20PRERTRU', 'G20PRELJOR', 'G20PREGHAW', 'G20PREAFUE', 'G20PREPLAR',\n",
    "       'G20PRESKEN', 'G20PREIWES', 'G20PREIPIE', 'G20PREOWRI', 'G20USSDSMI',\n",
    "       'G20USSRLEW', 'G20USSMOCO', 'G20USSCSTE', 'G20USSOWRI']\n",
    "\n",
    "print(\"Printing differences below\")\n",
    "for race in data_columns:\n",
    "    if (sum(vest_shp[race])- election_results[race].sum() != 0):\n",
    "        print(race+\" has a difference of \"+str(sum(vest_shp[race])-election_results[race].sum())+\" votes\")\n",
    "        print(\"\\tVEST: \"+str(sum(vest_shp[race]))+\" votes\")\n",
    "        print(\"\\tSOURCES: \"+str(election_results[race].sum())+\" votes\")\n",
    "    else:\n",
    "        print(race + \" is equal\", \"\\tVEST: \" + str(sum(vest_shp[race])), \"\\tRDH: \" + str(election_results[race].sum()))\n",
    "print(\"\")\n",
    "print(\"All other races are equal\")\n"
   ]
  },
  {
   "cell_type": "markdown",
   "metadata": {},
   "source": [
    "## County-by-County Totals"
   ]
  },
  {
   "cell_type": "code",
   "execution_count": 47,
   "metadata": {},
   "outputs": [
    {
     "name": "stdout",
     "output_type": "stream",
     "text": [
      "Counties with differences printed below:\n",
      "\n",
      "All other races in all counties are equal\n"
     ]
    }
   ],
   "source": [
    "print(\"Counties with differences printed below:\")\n",
    "diff_counties=[]\n",
    "for i in data_columns:\n",
    "    diff = vest_shp.groupby([\"COUNTYFIPS\"]).sum()[i]-election_results.groupby([\"COUNTYFP\"]).sum()[i]\n",
    "    for val in diff[diff != 0].index.values.tolist():\n",
    "        if val not in diff_counties:\n",
    "            diff_counties.append(val)\n",
    "    if len(diff[diff != 0]!=0):\n",
    "        print(i)\n",
    "        print(diff[diff != 0].to_string(header=False))\n",
    "print(\"\")\n",
    "print(\"All other races in all counties are equal\")\n"
   ]
  },
  {
   "cell_type": "markdown",
   "metadata": {},
   "source": [
    "## Precinct-by-Precinct Totals"
   ]
  },
  {
   "cell_type": "code",
   "execution_count": 49,
   "metadata": {},
   "outputs": [
    {
     "name": "stdout",
     "output_type": "stream",
     "text": [
      "\n",
      "There are  4111  total rows\n",
      "0  of these rows have election result differences\n",
      "4111  of these rows are the same\n",
      "\n",
      "The max difference between any one shared column in a row is:  0\n",
      "There are  0 precinct results with a difference greater than 10\n",
      "[]\n"
     ]
    }
   ],
   "source": [
    "def validater_row (df, column_List):\n",
    "    matching_rows = 0\n",
    "    different_rows = 0\n",
    "    diff_list=[]\n",
    "    diff_values = []\n",
    "    max_diff = 0\n",
    "    for j in range(0,len(df.index)):\n",
    "        same = True\n",
    "        for i in column_List:\n",
    "            left_Data = i + \"_x\"\n",
    "            right_Data = i + \"_y\"\n",
    "            diff = abs(df.iloc[j][left_Data]-df.iloc[j][right_Data])\n",
    "            if(diff >0):\n",
    "                if(diff>0):\n",
    "                    print(i, \"{:.>72}\".format(df.iloc[j][\"VTDID\"]), \"(V)\",\"{:.>5}\".format(int(df.iloc[j][left_Data])),\" (S){:.>5}\".format(int(df.iloc[j][right_Data])),\"(D):{:>5}\".format(int(df.iloc[j][right_Data])-int(df.iloc[j][left_Data])))           \n",
    "                #print(df.iloc[j]['countypct'])\n",
    "                \n",
    "                diff_values.append(abs(diff))\n",
    "                same = False\n",
    "                if(np.isnan(diff)):\n",
    "                    print(\"NaN value at diff is: \", df.iloc[j][\"VTDID\"])\n",
    "                    print(df.iloc[j][left_Data])\n",
    "                    print(df.iloc[j][right_Data])\n",
    "                if (diff>max_diff):\n",
    "                    max_diff = diff\n",
    "                    #print(\"New max diff is: \", str(max_diff))\n",
    "                    #print(df.iloc[j]['cty_pct'])\n",
    "        if(same != True):\n",
    "            different_rows +=1\n",
    "            diff_list.append(df.iloc[j][\"VTDID\"])\n",
    "        else:\n",
    "            matching_rows +=1\n",
    "    print(\"\")\n",
    "    print(\"There are \", len(df.index),\" total rows\")\n",
    "    print(different_rows,\" of these rows have election result differences\")\n",
    "    print(matching_rows,\" of these rows are the same\")\n",
    "    print(\"\")\n",
    "    print(\"The max difference between any one shared column in a row is: \", max_diff)\n",
    "    if(len(diff_values)!=0):\n",
    "        print(\"The average difference is: \", str(sum(diff_values)/len(diff_values)))\n",
    "    count_big_diff = len([i for i in diff_values if i > 10])\n",
    "    print(\"There are \", str(count_big_diff), \"precinct results with a difference greater than 10\")\n",
    "    diff_list.sort()\n",
    "    print(diff_list)\n",
    "    \n",
    "validater_row(merged_df,data_columns)\n"
   ]
  }
 ],
 "metadata": {
  "kernelspec": {
   "display_name": "Python 3",
   "language": "python",
   "name": "python3"
  },
  "language_info": {
   "codemirror_mode": {
    "name": "ipython",
    "version": 3
   },
   "file_extension": ".py",
   "mimetype": "text/x-python",
   "name": "python",
   "nbconvert_exporter": "python",
   "pygments_lexer": "ipython3",
   "version": "3.8.3"
  }
 },
 "nbformat": 4,
 "nbformat_minor": 4
}
